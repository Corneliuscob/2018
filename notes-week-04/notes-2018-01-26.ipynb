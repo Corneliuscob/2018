{
 "cells": [
  {
   "cell_type": "markdown",
   "metadata": {},
   "source": [
    "# MATH 210 Introduction to Mathematical Computing\n",
    "\n",
    "## January 26, 2018\n",
    "\n",
    "1. Systematic approach to program design"
   ]
  },
  {
   "cell_type": "markdown",
   "metadata": {},
   "source": [
    "## 1. Systematic approach to program design\n",
    "\n",
    "The toughest part of problem solving is knowing where to begin. Today we'll outline a general method for writing programs. The outline is not an official problem solving method but I find it helpful and I hope you will too. We'll go through the steps for an example about integers solutions of [elliptic curves](https://en.wikipedia.org/wiki/Elliptic_curve)."
   ]
  },
  {
   "cell_type": "markdown",
   "metadata": {},
   "source": [
    "### Elliptic curves\n",
    "\n",
    "Write a function called `elliptic` which takes input parameters `A`, `B`, `x_range` and `y_range` where:\n",
    "\n",
    "* `A` and `B` are integers\n",
    "* `x_range` and `y_range` are lists of length 2 representing closed intervals $[x_0,x_1]$ and $[y_0,y_1]$\n",
    "\n",
    "The function returns a list (of tuples) of integer solutions $(x,y)$ of the elliptic curve:\n",
    "\n",
    "$$\n",
    "y^2 = x^3 + Ax + B\n",
    "$$\n",
    "\n",
    "where $x \\in [x_0,x_1]$ and $[y_0,y_1]$."
   ]
  },
  {
   "cell_type": "markdown",
   "metadata": {},
   "source": [
    "### Problem Solving Outline\n",
    "\n",
    "1. Identify the input parameters and their types\n",
    "2. Identify the output parameters and their types\n",
    "3. Write a stub (ie. a short function that takes the correct number of input parameters and returns the correct type of output parameters)\n",
    "4. Write some tests\n",
    "5. Write a documentation string\n",
    "6. Write [pseudocode](https://en.wikipedia.org/wiki/Pseudocode) to outline the program\n",
    "7. Write it and test OFTEN!"
   ]
  },
  {
   "cell_type": "markdown",
   "metadata": {},
   "source": [
    "### Steps 1, 2 and 3\n",
    "\n",
    "* Input parameters:\n",
    "    * `A` and `B` are integers defining an elliptic curve $y^2 = x^3 + Ax + B$\n",
    "    * `x_range` and `y_range` are lists of length 2 representing closed intervals $[x_0,x_1]$ and $[y_0,y_1]$\n",
    "* Output is a list of tuples representing integer solutions of the equation\n",
    "* Write a stub:"
   ]
  },
  {
   "cell_type": "code",
   "execution_count": 1,
   "metadata": {},
   "outputs": [],
   "source": [
    "def elliptic(A,B,x_range,y_range):\n",
    "    solutions = []\n",
    "    return solutions"
   ]
  },
  {
   "cell_type": "markdown",
   "metadata": {},
   "source": [
    "### Step 4\n",
    "\n",
    "There are several ways to verify if two lists are equal. The best way (in my opinion) to test if a list of tuples of integers are equal is use the built-in function `sorted` with the comparision operator `==`. The function `sorted` will put a list of tuples of integers in increasing order with respect to the first entry, and then the second and so on, and then the operator `==` checks if the lists have equal values in each entry. For example:"
   ]
  },
  {
   "cell_type": "code",
   "execution_count": 2,
   "metadata": {},
   "outputs": [
    {
     "data": {
      "text/plain": [
       "[(-1, 5), (1, -2), (1, 2)]"
      ]
     },
     "execution_count": 2,
     "metadata": {},
     "output_type": "execute_result"
    }
   ],
   "source": [
    "sorted([(1,2),(1,-2),(-1,5)])"
   ]
  },
  {
   "cell_type": "code",
   "execution_count": 3,
   "metadata": {},
   "outputs": [
    {
     "data": {
      "text/plain": [
       "False"
      ]
     },
     "execution_count": 3,
     "metadata": {},
     "output_type": "execute_result"
    }
   ],
   "source": [
    "sorted([(1,2),(1,-2),(-1,5)]) == [(1,2),(1,-2),(-1,5)]"
   ]
  },
  {
   "cell_type": "code",
   "execution_count": 4,
   "metadata": {},
   "outputs": [
    {
     "data": {
      "text/plain": [
       "True"
      ]
     },
     "execution_count": 4,
     "metadata": {},
     "output_type": "execute_result"
    }
   ],
   "source": [
    "sorted([(1,2),(1,-2),(-1,5)]) == [(-1, 5), (1, -2), (1, 2)]"
   ]
  },
  {
   "cell_type": "markdown",
   "metadata": {},
   "source": [
    "Let's pick some small values for `A` and `B` and solve the equation by hand. For example, if $A = B = 0$ and $x,y \\in [-1,1]$, solutions are $(0,0)$, $(1,-1)$ and $(1,1)$."
   ]
  },
  {
   "cell_type": "code",
   "execution_count": 5,
   "metadata": {},
   "outputs": [
    {
     "name": "stdout",
     "output_type": "stream",
     "text": [
      "False False False\n"
     ]
    }
   ],
   "source": [
    "test1 = sorted(elliptic(0,0,[-1,1],[-1,1])) == [(0,0),(1,-1),(1,1)]\n",
    "test2 = sorted(elliptic(-1,0,[-1,1],[-1,1])) == [(-1,0),(0,0),(1,0)]\n",
    "test3 = sorted(elliptic(1,2,[-2,2],[-2,2])) == [(-1, 0), (1, -2), (1, 2)]\n",
    "print(test1,test2,test3)"
   ]
  },
  {
   "cell_type": "markdown",
   "metadata": {},
   "source": [
    "Let's add these functions to the cell defining our function so that we can define and test all at once."
   ]
  },
  {
   "cell_type": "code",
   "execution_count": 6,
   "metadata": {},
   "outputs": [
    {
     "name": "stdout",
     "output_type": "stream",
     "text": [
      "Test 1: False\n",
      "Test 2: False\n",
      "Test 3: False\n"
     ]
    }
   ],
   "source": [
    "def elliptic(A,B,x_range,y_range):\n",
    "    '''Find all integer solutions of y^2 = x^3 + Ax + B.\n",
    "    \n",
    "    Input:\n",
    "        A,B : integers, coefficients of the equation\n",
    "        x_range : list of length 2 defining a closed interval of x values\n",
    "        y_range : list of length 2 defining a closed interval of y values\n",
    "    Output:\n",
    "        A list of tuples representing all integers solutions of the equation.\n",
    "    Example:\n",
    "        >>> elliptic(1,1,2,[0,1],[-2,2])\n",
    "        [(1,2),(1,-2)]\n",
    "    '''\n",
    "    solutions = []\n",
    "    return solutions\n",
    "\n",
    "# Tests\n",
    "test1 = sorted(elliptic(0,0,[-1,1],[-1,1])) == [(0,0),(1,-1),(1,1)]\n",
    "test2 = sorted(elliptic(-1,0,[-1,1],[-1,1])) == [(-1,0),(0,0),(1,0)]\n",
    "test3 = sorted(elliptic(1,2,[-2,2],[-2,2])) == [(-1, 0), (1, -2), (1, 2)]\n",
    "print('Test 1:',test1)\n",
    "print('Test 2:',test2)\n",
    "print('Test 3:',test3)"
   ]
  },
  {
   "cell_type": "markdown",
   "metadata": {},
   "source": [
    "### Step 5\n",
    "\n",
    "* Write a documentation string:\n",
    "```\n",
    "'''Find all integer solutions of y^2 = x^3 + Ax + B.\n",
    "    \n",
    "    Input:\n",
    "        A,B : integers, coefficients of the equation\n",
    "        x_range : list of length 2 defining a closed interval of x values\n",
    "        y_range : list of length 2 defining a closed interval of y values\n",
    "    Output:\n",
    "        A list of tuples representing all integers solutions of the equation.\n",
    "    Example:\n",
    "        >>> elliptic(1,2,[-2,2],[-2,2])\n",
    "        [(-1, 0), (1, -2), (1, 2)]\n",
    "'''\n",
    "```\n",
    "\n",
    "### Step 6\n",
    "\n",
    "* Let's try the [brute force method](https://en.wikipedia.org/wiki/Brute-force_search): loop over all possible values of $x$ and $y$ and plug in the values to the equation. Let's write some pseudocode:\n",
    "```\n",
    "solutions = []\n",
    "for x in x_range\n",
    "    for y in y_range\n",
    "        if y^2 == Ax^3 + Bx + C:\n",
    "            solutions.append((x,y))\n",
    "return solutions\n",
    "```\n",
    "(The beautiful thing about Python is that the syntax is almost as simple as pseudocode!)"
   ]
  },
  {
   "cell_type": "markdown",
   "metadata": {},
   "source": [
    "### Step 7\n",
    "\n",
    "* Write the function and test OFTEN!"
   ]
  },
  {
   "cell_type": "code",
   "execution_count": 7,
   "metadata": {},
   "outputs": [
    {
     "name": "stdout",
     "output_type": "stream",
     "text": [
      "Test 1: True\n",
      "Test 2: True\n",
      "Test 3: True\n"
     ]
    }
   ],
   "source": [
    "def elliptic(A,B,x_range,y_range):\n",
    "    '''Find all integer solutions of y^2 = x^3 + Ax + B.\n",
    "    \n",
    "    Input:\n",
    "        A,B : integers, coefficients of the equation\n",
    "        x_range : list of length 2 defining a closed interval of x values\n",
    "        y_range : list of length 2 defining a closed interval of y values\n",
    "    Output:\n",
    "        A list of tuples representing all integers solutions of the equation.\n",
    "    Example:\n",
    "        >>> elliptic(1,1,2,[0,1],[-2,2])\n",
    "        [(1,2),(1,-2)]\n",
    "    '''\n",
    "    solutions = []\n",
    "    for x in range(x_range[0],x_range[1]+1):\n",
    "        for y in range(y_range[0],y_range[1]+1):\n",
    "            if y**2 == x**3 + A*x + B:\n",
    "                solutions.append((x,y))\n",
    "    return solutions\n",
    "\n",
    "# Tests\n",
    "test1 = sorted(elliptic(0,0,[-1,1],[-1,1])) == [(0,0),(1,-1),(1,1)]\n",
    "test2 = sorted(elliptic(-1,0,[-1,1],[-1,1])) == [(-1,0),(0,0),(1,0)]\n",
    "test3 = sorted(elliptic(1,2,[-2,2],[-2,2])) == [(-1, 0), (1, -2), (1, 2)]\n",
    "print('Test 1:',test1)\n",
    "print('Test 2:',test2)\n",
    "print('Test 3:',test3)"
   ]
  },
  {
   "cell_type": "markdown",
   "metadata": {},
   "source": [
    "Hooray! Let's use our function to find integer solutions of elliptic curves!"
   ]
  },
  {
   "cell_type": "code",
   "execution_count": 8,
   "metadata": {},
   "outputs": [
    {
     "data": {
      "text/plain": [
       "[(1, 0), (2, -3), (2, 3)]"
      ]
     },
     "execution_count": 8,
     "metadata": {},
     "output_type": "execute_result"
    }
   ],
   "source": [
    "elliptic(2,-3,[-10,10],[-10,10])"
   ]
  },
  {
   "cell_type": "markdown",
   "metadata": {},
   "source": [
    "Now that our function works and is written properly, can we make our program run more efficiently? Do we really need to loop over all $x$ and $y$ values? No! We should loop over just $x$ and then test if $x^3 + Ax + B$ is a square and, if so, append both solutions $(x,\\pm \\sqrt{x^3 + Ax + B})$. I'll leave this as an exercise!"
   ]
  }
 ],
 "metadata": {
  "kernelspec": {
   "display_name": "Python 3",
   "language": "python",
   "name": "python3"
  },
  "language_info": {
   "codemirror_mode": {
    "name": "ipython",
    "version": 3
   },
   "file_extension": ".py",
   "mimetype": "text/x-python",
   "name": "python",
   "nbconvert_exporter": "python",
   "pygments_lexer": "ipython3",
   "version": "3.6.4"
  }
 },
 "nbformat": 4,
 "nbformat_minor": 2
}
