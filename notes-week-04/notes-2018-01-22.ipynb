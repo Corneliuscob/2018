{
 "cells": [
  {
   "cell_type": "markdown",
   "metadata": {},
   "source": [
    "# MATH 210 Introduction to Mathematical Computing\n",
    "\n",
    "## January 22, 2018\n",
    "\n",
    "1. for loops\n",
    "2. Constructing lists\n",
    "3. while loops\n",
    "4. Examples"
   ]
  },
  {
   "cell_type": "markdown",
   "metadata": {},
   "source": [
    "## 1. for loops\n",
    "\n",
    "A for loop allows us to execute a block of code multiple times with some parameters updated each time through the loop. For example:"
   ]
  },
  {
   "cell_type": "code",
   "execution_count": 1,
   "metadata": {},
   "outputs": [
    {
     "name": "stdout",
     "output_type": "stream",
     "text": [
      "9\n",
      "0\n",
      "2\n",
      "1\n",
      "0\n"
     ]
    }
   ],
   "source": [
    "for number in [9,0,2,1,0]:\n",
    "    print(number)"
   ]
  },
  {
   "cell_type": "markdown",
   "metadata": {},
   "source": [
    "The main points to observe:\n",
    "\n",
    "1. Start a loop with the keyword `for`\n",
    "2. Pick a variable name, `number` in the example above\n",
    "3. Use the keyword `in`\n",
    "4. An iterable object such as a list, tuple or range for the variable to traverse\n",
    "5. End the first line with a colon `:`\n",
    "6. Indent by 4 spaces the block of code to be executed\n",
    "7. The block of code is executed for each value in the iterable object"
   ]
  },
  {
   "cell_type": "code",
   "execution_count": 2,
   "metadata": {},
   "outputs": [
    {
     "name": "stdout",
     "output_type": "stream",
     "text": [
      "1 time!\n",
      "2 time!\n",
      "3 time!\n",
      "4 time!\n",
      "5 time!\n",
      "6 time!\n",
      "7 time!\n",
      "8 time!\n",
      "9 time!\n",
      "10 time!\n",
      "Ahahaha!!!\n"
     ]
    }
   ],
   "source": [
    "for count in range(1,11):\n",
    "    print(count, \"time!\")\n",
    "print(\"Ahahaha!!!\")"
   ]
  },
  {
   "cell_type": "markdown",
   "metadata": {},
   "source": [
    "## 2. Constructing lists\n",
    "\n",
    "A list comprehension is a compact way to create a list. Another way to construct a list using a for loop is to use the append method:"
   ]
  },
  {
   "cell_type": "code",
   "execution_count": 3,
   "metadata": {},
   "outputs": [
    {
     "name": "stdout",
     "output_type": "stream",
     "text": [
      "[1, 4, 9, 16, 25, 36]\n"
     ]
    }
   ],
   "source": [
    "# Write a for loop to create a list of squares\n",
    "squares = [] # Create an empty list\n",
    "N = 6\n",
    "for number in range(1,N+1):\n",
    "    squares.append(number**2)\n",
    "print(squares)"
   ]
  },
  {
   "cell_type": "markdown",
   "metadata": {},
   "source": [
    "This code is *equivalent* to the list comprehension:"
   ]
  },
  {
   "cell_type": "code",
   "execution_count": 4,
   "metadata": {},
   "outputs": [
    {
     "name": "stdout",
     "output_type": "stream",
     "text": [
      "[1, 4, 9, 16, 25, 36]\n"
     ]
    }
   ],
   "source": [
    "N = 6\n",
    "squares = [n**2 for n in range(1,N+1)]\n",
    "print(squares)"
   ]
  },
  {
   "cell_type": "markdown",
   "metadata": {},
   "source": [
    "## 3. while loops\n",
    "\n",
    "A for loop executes a block of code a predetermined number of times. In a situation where we don't know how many iterations we need to do, we'll use a `while` loop. The syntax for a while loop is:"
   ]
  },
  {
   "cell_type": "code",
   "execution_count": 5,
   "metadata": {},
   "outputs": [
    {
     "name": "stdout",
     "output_type": "stream",
     "text": [
      "10\n",
      "9\n",
      "8\n",
      "7\n",
      "6\n",
      "5\n",
      "4\n",
      "3\n",
      "2\n",
      "1\n",
      "Blast off!\n"
     ]
    }
   ],
   "source": [
    "count = 10\n",
    "while count > 0:\n",
    "    print(count)\n",
    "    count = count - 1\n",
    "print(\"Blast off!\")"
   ]
  },
  {
   "cell_type": "markdown",
   "metadata": {},
   "source": [
    "Beware of infinite loops! In this class, we almost never need to use `while` loops. Your first instinct for a repeated computation is to use a for loop!"
   ]
  },
  {
   "cell_type": "markdown",
   "metadata": {},
   "source": [
    "## 4. Examples\n",
    "\n",
    "### Fibonacci Numbers\n",
    "\n",
    "The sequence of Fibonacci numbers is\n",
    "\n",
    "$$\n",
    "1, 1, 2, 3, 5, 8, 13, 21, 34, 55, 89, 144, 233, 377, 610 \\dots\n",
    "$$\n",
    "\n",
    "This is a recursive sequence. This means that the next value in the sequence depends on previous values. The recursive formula for the Fibonacci numbers is:\n",
    "\n",
    "$$\n",
    "x_n = x_{n-1} + x_{n-2} \\ \\text{with} \\ x_0=x_1=1\n",
    "$$"
   ]
  },
  {
   "cell_type": "markdown",
   "metadata": {},
   "source": [
    "Write a function called `fibonacci` which takes an input parameter `N` and returns the first `N` Fibonacci numbers as a list. Note that this is a recursive sequence and therefore cannot be computed with a list comprehension."
   ]
  },
  {
   "cell_type": "code",
   "execution_count": 6,
   "metadata": {},
   "outputs": [],
   "source": [
    "def fibonacci(N):\n",
    "    \"Compute first N Fibonacci numbers.\"\n",
    "    if N == 1:\n",
    "        return [1]\n",
    "    fib_list = [1,1]\n",
    "    for n in range(2,N):\n",
    "        next_fib = fib_list[n-1] + fib_list[n-2]\n",
    "        fib_list.append(next_fib)\n",
    "    return fib_list"
   ]
  },
  {
   "cell_type": "code",
   "execution_count": 7,
   "metadata": {},
   "outputs": [
    {
     "data": {
      "text/plain": [
       "[1, 1, 2, 3, 5, 8, 13, 21, 34, 55]"
      ]
     },
     "execution_count": 7,
     "metadata": {},
     "output_type": "execute_result"
    }
   ],
   "source": [
    "fibonacci(10)"
   ]
  },
  {
   "cell_type": "markdown",
   "metadata": {},
   "source": [
    "Let's use our function to approximate the [Golden ratio](https://en.wikipedia.org/wiki/Golden_ratio#Relationship_to_Fibonacci_sequence):"
   ]
  },
  {
   "cell_type": "code",
   "execution_count": 8,
   "metadata": {},
   "outputs": [
    {
     "data": {
      "text/plain": [
       "1.618033988749895"
      ]
     },
     "execution_count": 8,
     "metadata": {},
     "output_type": "execute_result"
    }
   ],
   "source": [
    "fib_1000 = fibonacci(1000)\n",
    "fib_1000[-1]/fib_1000[-2]"
   ]
  },
  {
   "cell_type": "code",
   "execution_count": 9,
   "metadata": {},
   "outputs": [
    {
     "data": {
      "text/plain": [
       "1.618033988749895"
      ]
     },
     "execution_count": 9,
     "metadata": {},
     "output_type": "execute_result"
    }
   ],
   "source": [
    "(1+5**0.5)/2"
   ]
  },
  {
   "cell_type": "markdown",
   "metadata": {},
   "source": [
    "### Prime Numbers\n",
    "\n",
    "Write function called `is_prime` which takes an input parameter `n` and returns `True` if `n` is prime, ow `False`."
   ]
  },
  {
   "cell_type": "code",
   "execution_count": 10,
   "metadata": {},
   "outputs": [],
   "source": [
    "def is_prime(N):\n",
    "    \"Determine if N is a prime number.\"\n",
    "    if N < 2:\n",
    "        return False\n",
    "    for d in range(2,N):\n",
    "        if N % d == 0:\n",
    "            return False\n",
    "    return True"
   ]
  },
  {
   "cell_type": "markdown",
   "metadata": {},
   "source": [
    "Test our function on numbers up to 100:"
   ]
  },
  {
   "cell_type": "code",
   "execution_count": 11,
   "metadata": {},
   "outputs": [
    {
     "name": "stdout",
     "output_type": "stream",
     "text": [
      "2 is prime!\n",
      "3 is prime!\n",
      "5 is prime!\n",
      "7 is prime!\n",
      "11 is prime!\n",
      "13 is prime!\n",
      "17 is prime!\n",
      "19 is prime!\n",
      "23 is prime!\n",
      "29 is prime!\n",
      "31 is prime!\n",
      "37 is prime!\n",
      "41 is prime!\n",
      "43 is prime!\n",
      "47 is prime!\n",
      "53 is prime!\n",
      "59 is prime!\n",
      "61 is prime!\n",
      "67 is prime!\n",
      "71 is prime!\n",
      "73 is prime!\n",
      "79 is prime!\n",
      "83 is prime!\n",
      "89 is prime!\n",
      "97 is prime!\n"
     ]
    }
   ],
   "source": [
    "for n in range(1,100):\n",
    "    if is_prime(n):\n",
    "        print(n,\"is prime!\")"
   ]
  },
  {
   "cell_type": "markdown",
   "metadata": {},
   "source": [
    "Our function works! But notice that we are testing if $N$ is divisible by $d$ for $1 < d < N$. Do we really need to check all those numbers? (No, we only need $1 < d < \\sqrt{N}$. Do you see why?)"
   ]
  }
 ],
 "metadata": {
  "kernelspec": {
   "display_name": "Python 3",
   "language": "python",
   "name": "python3"
  },
  "language_info": {
   "codemirror_mode": {
    "name": "ipython",
    "version": 3
   },
   "file_extension": ".py",
   "mimetype": "text/x-python",
   "name": "python",
   "nbconvert_exporter": "python",
   "pygments_lexer": "ipython3",
   "version": "3.6.4"
  }
 },
 "nbformat": 4,
 "nbformat_minor": 2
}
