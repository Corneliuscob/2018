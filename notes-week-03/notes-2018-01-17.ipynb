{
 "cells": [
  {
   "cell_type": "markdown",
   "metadata": {},
   "source": [
    "# MATH 210 Introduction to Mathematical Computing\n",
    "\n",
    "## January 17, 2018\n",
    "\n",
    "1. Defining Functions\n",
    "    * Syntax\n",
    "    * Docstrings\n",
    "    * Comments\n",
    "2. Example: Riemann Sums"
   ]
  },
  {
   "cell_type": "markdown",
   "metadata": {},
   "source": [
    "## 1. Defining Functions\n",
    "\n",
    "Recall the structure of a functions definition:\n",
    "\n",
    "1. Start the function definition with the `def` keyword\n",
    "2. Follow `def` with the name of the function\n",
    "3. Follow the function name with the list of input parameters (within parentheses and separated by commas)\n",
    "4. End the `def` statement with a colon `:`\n",
    "5. Indent the body of the function by 4 spaces\n",
    "6. Use the `return` keyword to specify the output of the function (but it is not always necessary)\n",
    "7. The second line is a documentation string (enclosed in double quotes \" ... \" or triple quotes ''' ... ''' for multiline docstrings) which describes the function\n",
    "8. Comments are lines beginning with the hash symbol `#` and describe our code in plain text (and ignored by Python)"
   ]
  },
  {
   "cell_type": "markdown",
   "metadata": {},
   "source": [
    "Write a function called `box_surface` which input parameters `w`, `d` and `h`, positive real numbers defining the dimensions width, depth and height of a rectangular box, and returns the total surface area of the box."
   ]
  },
  {
   "cell_type": "code",
   "execution_count": 1,
   "metadata": {},
   "outputs": [
    {
     "data": {
      "text/plain": [
       "6"
      ]
     },
     "execution_count": 1,
     "metadata": {},
     "output_type": "execute_result"
    }
   ],
   "source": [
    "def box_surface(w,d,h):\n",
    "    \"Compute surface area of rectangular box with dimensions w, d, and h.\"\n",
    "    # Opposite sides have equal area\n",
    "    area = 2*w*d + 2*w*h + 2*d*h\n",
    "    return area\n",
    "\n",
    "# Outside the function definition\n",
    "# Test our function for values where we know the result:\n",
    "# box_surface(1,1,1) returns 6\n",
    "box_surface(1,1,1)"
   ]
  },
  {
   "cell_type": "markdown",
   "metadata": {},
   "source": [
    "Visualize our Python code using the [code visualizer on pythontutor.org](http://www.pythontutor.com/visualize.html)! Simply copy and paste the code above into the visualizer."
   ]
  },
  {
   "cell_type": "markdown",
   "metadata": {},
   "source": [
    "The function definiton saves the function to the current Python environment. Use the Jupyter magic `whos` to display all variables in the current Python environment:"
   ]
  },
  {
   "cell_type": "code",
   "execution_count": 2,
   "metadata": {},
   "outputs": [
    {
     "name": "stdout",
     "output_type": "stream",
     "text": [
      "Variable      Type        Data/Info\n",
      "-----------------------------------\n",
      "box_surface   function    <function box_surface at 0x7f1b5094b9d8>\n"
     ]
    }
   ],
   "source": [
    "whos"
   ]
  },
  {
   "cell_type": "markdown",
   "metadata": {},
   "source": [
    "Use the question mark `?` to display the docstring of our function:"
   ]
  },
  {
   "cell_type": "code",
   "execution_count": 3,
   "metadata": {},
   "outputs": [],
   "source": [
    "box_surface?"
   ]
  },
  {
   "cell_type": "markdown",
   "metadata": {},
   "source": [
    "## 2. Example: Riemann Sums\n",
    "\n",
    "Write a function called `mn_integral` which takes input parameters `m`, `n`, `a`, `b` and `N` and returns the (right) Riemann sum\n",
    "\n",
    "$$\n",
    "\\int_a^b f(x) \\, dx \\approx \\sum_{k=1}^N f(x_k) \\Delta x \\ \\ \\text{where} \\ \\ f(x) = \\frac{x^m + 1}{x^n + 1}\n",
    "$$\n",
    "\n",
    "where $\\Delta x = (b-a)/N$ and $x_k = a + k \\Delta x$."
   ]
  },
  {
   "cell_type": "code",
   "execution_count": 4,
   "metadata": {},
   "outputs": [],
   "source": [
    "def mn_integral(m,n,a,b,N):\n",
    "    '''Compute the (right) Riemann for f(x) = (x^m + 1)/(x^n + 1) on interval [a,b].\n",
    "    \n",
    "    Input:\n",
    "        m, n: numbers\n",
    "        a,b: numbers, limits of integration\n",
    "        N: size of partition of interval [a,b]\n",
    "    Output:\n",
    "        Compute the (right) Riemann sum of f(x) from a to b using a partition of size N.\n",
    "    Example:\n",
    "        >>> mn_integral(0,1,0,1,2)\n",
    "        1.1666666666666665\n",
    "    '''\n",
    "    # Compute the width of each subinterval\n",
    "    delta_x = (b - a)/N\n",
    "    \n",
    "    # Create N+1 evenly space x values from a to b\n",
    "    xs = [a + k*delta_x for k in range(0,N+1)]\n",
    "    \n",
    "    # Compute terms of the sum\n",
    "    terms = [(xs[k]**m + 1)/(xs[k]**n + 1)*delta_x for k in range(1,N+1)]\n",
    "    \n",
    "    # Compute the sum\n",
    "    riemann_sum = sum(terms)\n",
    "    \n",
    "    return riemann_sum"
   ]
  },
  {
   "cell_type": "markdown",
   "metadata": {},
   "source": [
    "Let's test our function on input for which we know the result. Let $m=0$, $n=1$, $a=0$, $b=1$ and $N=2$. Then\n",
    "\n",
    "$$\n",
    "\\sum_{k=1}^N f(x_k) \\Delta x = \\sum_{k=1}^2 \\frac{x_k^0 + 1}{x_k^1 + 1} \\Delta x = \\frac{2}{(1/2) + 1} \\cdot \\frac{1}{2} + \\frac{2}{1 + 1} \\cdot \\frac{1}{2} = \\frac{7}{6}\n",
    "$$\n",
    "\n",
    "where $x_0 = 0$, $x_1 = 1/2$, $x_2 = 1$ and $\\Delta x = 1/2$."
   ]
  },
  {
   "cell_type": "code",
   "execution_count": 5,
   "metadata": {},
   "outputs": [
    {
     "data": {
      "text/plain": [
       "1.1666666666666665"
      ]
     },
     "execution_count": 5,
     "metadata": {},
     "output_type": "execute_result"
    }
   ],
   "source": [
    "mn_integral(0,1,0,1,2)"
   ]
  },
  {
   "cell_type": "code",
   "execution_count": 6,
   "metadata": {},
   "outputs": [
    {
     "data": {
      "text/plain": [
       "1.1666666666666667"
      ]
     },
     "execution_count": 6,
     "metadata": {},
     "output_type": "execute_result"
    }
   ],
   "source": [
    "7/6"
   ]
  },
  {
   "cell_type": "markdown",
   "metadata": {},
   "source": [
    "Let's test our function on another example. Let $m=1$, $n=2$, $a=0$, and $b=1$. We can solve this integral exactly:\n",
    "\n",
    "$$\n",
    "\\int_0^1 \\frac{x + 1}{x^2 + 1} dx = \\int_0^1 \\frac{x}{x^2 + 1} dx + \\int_0^1 \\frac{1}{x^2 + 1} dx = \\left. \\left( \\frac{1}{2} \\ln(x^2 + 1) + \\arctan x \\right) \\right|_0^1 = \\frac{1}{2} \\ln(2) + \\frac{\\pi}{4}\n",
    "$$"
   ]
  },
  {
   "cell_type": "markdown",
   "metadata": {},
   "source": [
    "Approximate this integral with a Riemann sum for $N=100000$:"
   ]
  },
  {
   "cell_type": "code",
   "execution_count": 7,
   "metadata": {},
   "outputs": [
    {
     "data": {
      "text/plain": [
       "1.1319717536649336"
      ]
     },
     "execution_count": 7,
     "metadata": {},
     "output_type": "execute_result"
    }
   ],
   "source": [
    "mn_integral(1,2,0,1,100000)"
   ]
  },
  {
   "cell_type": "markdown",
   "metadata": {},
   "source": [
    "Since $\\pi \\approx 3.14159265$ and $\\ln(2) \\approx 0.69314718$, we compare to the approximation:"
   ]
  },
  {
   "cell_type": "code",
   "execution_count": 8,
   "metadata": {},
   "outputs": [
    {
     "data": {
      "text/plain": [
       "1.1319717525000002"
      ]
     },
     "execution_count": 8,
     "metadata": {},
     "output_type": "execute_result"
    }
   ],
   "source": [
    "0.5*0.69314718 + 3.14159265/4"
   ]
  },
  {
   "cell_type": "markdown",
   "metadata": {},
   "source": [
    "Our function is computing the expected values!"
   ]
  }
 ],
 "metadata": {
  "kernelspec": {
   "display_name": "Python 3",
   "language": "python",
   "name": "python3"
  },
  "language_info": {
   "codemirror_mode": {
    "name": "ipython",
    "version": 3
   },
   "file_extension": ".py",
   "mimetype": "text/x-python",
   "name": "python",
   "nbconvert_exporter": "python",
   "pygments_lexer": "ipython3",
   "version": "3.6.4"
  }
 },
 "nbformat": 4,
 "nbformat_minor": 2
}
