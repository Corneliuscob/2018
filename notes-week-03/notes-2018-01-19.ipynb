{
 "cells": [
  {
   "cell_type": "markdown",
   "metadata": {},
   "source": [
    "# MATH 210 Introduction to Mathematical Computing\n",
    "\n",
    "## January 19, 2018\n",
    "\n",
    "1. Logic\n",
    "    * Boolean type\n",
    "    * Comparison operators\n",
    "    * Boolean operators\n",
    "2. if statements\n",
    "3. Example: Invertible matrix"
   ]
  },
  {
   "cell_type": "markdown",
   "metadata": {},
   "source": [
    "## 1. Logic\n",
    "\n",
    "### Boolean type\n",
    "\n",
    "In Python, the Boolean type has two values `True` and `False`."
   ]
  },
  {
   "cell_type": "code",
   "execution_count": 1,
   "metadata": {},
   "outputs": [
    {
     "name": "stdout",
     "output_type": "stream",
     "text": [
      "True\n"
     ]
    }
   ],
   "source": [
    "python_is_awesome = True\n",
    "print(python_is_awesome)"
   ]
  },
  {
   "cell_type": "code",
   "execution_count": 2,
   "metadata": {},
   "outputs": [
    {
     "data": {
      "text/plain": [
       "bool"
      ]
     },
     "execution_count": 2,
     "metadata": {},
     "output_type": "execute_result"
    }
   ],
   "source": [
    "type(python_is_awesome)"
   ]
  },
  {
   "cell_type": "code",
   "execution_count": 3,
   "metadata": {},
   "outputs": [
    {
     "name": "stdout",
     "output_type": "stream",
     "text": [
      "False\n"
     ]
    }
   ],
   "source": [
    "i_am_cool = False\n",
    "print(i_am_cool)"
   ]
  },
  {
   "cell_type": "code",
   "execution_count": 4,
   "metadata": {},
   "outputs": [
    {
     "data": {
      "text/plain": [
       "bool"
      ]
     },
     "execution_count": 4,
     "metadata": {},
     "output_type": "execute_result"
    }
   ],
   "source": [
    "type(i_am_cool)"
   ]
  },
  {
   "cell_type": "markdown",
   "metadata": {},
   "source": [
    "### Comparison operators\n",
    "\n",
    "We compare numeric values using operators: greater than `>`, greater than or equal to `>=`, less than `<`, less than or equal to `<=`, equal `==` and not equal `!=`. The result of a comaprison is `True` or `False` (ie. boolean)."
   ]
  },
  {
   "cell_type": "code",
   "execution_count": 5,
   "metadata": {},
   "outputs": [
    {
     "data": {
      "text/plain": [
       "True"
      ]
     },
     "execution_count": 5,
     "metadata": {},
     "output_type": "execute_result"
    }
   ],
   "source": [
    "2 < 3"
   ]
  },
  {
   "cell_type": "code",
   "execution_count": 6,
   "metadata": {},
   "outputs": [
    {
     "data": {
      "text/plain": [
       "False"
      ]
     },
     "execution_count": 6,
     "metadata": {},
     "output_type": "execute_result"
    }
   ],
   "source": [
    "3.14159 >= 3.15"
   ]
  },
  {
   "cell_type": "code",
   "execution_count": 7,
   "metadata": {},
   "outputs": [
    {
     "data": {
      "text/plain": [
       "True"
      ]
     },
     "execution_count": 7,
     "metadata": {},
     "output_type": "execute_result"
    }
   ],
   "source": [
    "42 == 42"
   ]
  },
  {
   "cell_type": "code",
   "execution_count": 8,
   "metadata": {},
   "outputs": [
    {
     "data": {
      "text/plain": [
       "True"
      ]
     },
     "execution_count": 8,
     "metadata": {},
     "output_type": "execute_result"
    }
   ],
   "source": [
    "-1 != 3"
   ]
  },
  {
   "cell_type": "markdown",
   "metadata": {},
   "source": [
    "### Boolean operators\n",
    "\n",
    "We combine logical statements using operators: `and`, `or` and `not`."
   ]
  },
  {
   "cell_type": "code",
   "execution_count": 9,
   "metadata": {},
   "outputs": [
    {
     "data": {
      "text/plain": [
       "False"
      ]
     },
     "execution_count": 9,
     "metadata": {},
     "output_type": "execute_result"
    }
   ],
   "source": [
    "(1 < 2) and (1 > 2)"
   ]
  },
  {
   "cell_type": "code",
   "execution_count": 10,
   "metadata": {},
   "outputs": [
    {
     "data": {
      "text/plain": [
       "True"
      ]
     },
     "execution_count": 10,
     "metadata": {},
     "output_type": "execute_result"
    }
   ],
   "source": [
    "(1 < 2) or (1 > 2)"
   ]
  },
  {
   "cell_type": "code",
   "execution_count": 11,
   "metadata": {},
   "outputs": [
    {
     "data": {
      "text/plain": [
       "True"
      ]
     },
     "execution_count": 11,
     "metadata": {},
     "output_type": "execute_result"
    }
   ],
   "source": [
    "not (100**3 < 10000)"
   ]
  },
  {
   "cell_type": "markdown",
   "metadata": {},
   "source": [
    "## 2. if statements\n",
    "\n",
    "An if statement executes different blocks of code depending on some conditions. Let's do an example:"
   ]
  },
  {
   "cell_type": "code",
   "execution_count": 12,
   "metadata": {},
   "outputs": [
    {
     "name": "stdout",
     "output_type": "stream",
     "text": [
      "Discriminant = -24604\n",
      "Roots are complex.\n"
     ]
    }
   ],
   "source": [
    "# Determine if roots of ax^2 + bx + c = 0\n",
    "# are real, repeated or complex\n",
    "# Quadratic formula x = (-b \\pm \\sqrt{b^2 - 4ac})/2a\n",
    "a = 10\n",
    "b = -234\n",
    "c = 1984\n",
    "discriminant = b**2 - 4*a*c\n",
    "if discriminant > 0:\n",
    "    print(\"Discriminant =\", discriminant)\n",
    "    print(\"Roots are real and distinct.\")\n",
    "elif discriminant < 0:\n",
    "    print(\"Discriminant =\", discriminant)\n",
    "    print(\"Roots are complex.\")\n",
    "else:\n",
    "    print(\"Discriminant =\", discriminant)\n",
    "    print(\"Roots are real and repeated.\")"
   ]
  },
  {
   "cell_type": "markdown",
   "metadata": {},
   "source": [
    "The main points to observe:\n",
    "\n",
    "1. Start with the `if` keyword\n",
    "2. Write a logical statement (returns `True` or `False`)\n",
    "3. End line with colo `:`  \n",
    "4. Indent block 4 spaces after `if` statement\n",
    "5. Include `elif` and `else` if needed\n",
    "6. `if`, `elif` and `else` make one `if` statement (meaning only one block is executed)"
   ]
  },
  {
   "cell_type": "markdown",
   "metadata": {},
   "source": [
    "Notice that the keyword `if` always starts a new `if` block. For example:"
   ]
  },
  {
   "cell_type": "code",
   "execution_count": 13,
   "metadata": {},
   "outputs": [
    {
     "name": "stdout",
     "output_type": "stream",
     "text": [
      "Hello!\n",
      "Ciao!\n"
     ]
    }
   ],
   "source": [
    "x = 8\n",
    "if x > 1:\n",
    "    print(\"Hello!\")\n",
    "if x < 2:\n",
    "    print(\"Bonjour!\")\n",
    "else:\n",
    "    print('Ciao!')"
   ]
  },
  {
   "cell_type": "markdown",
   "metadata": {},
   "source": [
    "## Example: Invertible matrix\n",
    "\n",
    "Represent a 2 by 2 square matrix as a list of lists. For example, represent the matrix\n",
    "\n",
    "$$\n",
    "\\begin{bmatrix} 2 & -1 \\\\ 5 & 7 \\end{bmatrix}\n",
    "$$\n",
    "\n",
    "as the list of lists `[[2,-1],[5,7]]`."
   ]
  },
  {
   "cell_type": "markdown",
   "metadata": {},
   "source": [
    "Write a function called `invertible` which takes an input parameter `M`, a list of lists representing a 2 by 2 matrix, and returns `True` if the matrix `M` is invertible and `False` if not."
   ]
  },
  {
   "cell_type": "code",
   "execution_count": 14,
   "metadata": {},
   "outputs": [],
   "source": [
    "def invertible(M):\n",
    "    '''Determine if M is invertible.\n",
    "    \n",
    "    Input:\n",
    "        M: list of lists representing a 2 by 2 matrix\n",
    "    Output\n",
    "        True if M is invertible and False if not\n",
    "    Example:\n",
    "        >>> invertible([[1,2],[3,4]])\n",
    "        True\n",
    "    '''\n",
    "    # A matrix M is invertible if and only if it's determinant is not zero\n",
    "    # Determinant(M) = ad - bc where M = [[a,b],[c,d]]\n",
    "    determinant = M[0][0] * M[1][1] - M[0][1] * M[1][0]\n",
    "    if determinant != 0:\n",
    "        return True\n",
    "    else:\n",
    "        return False"
   ]
  },
  {
   "cell_type": "code",
   "execution_count": 15,
   "metadata": {},
   "outputs": [
    {
     "data": {
      "text/plain": [
       "True"
      ]
     },
     "execution_count": 15,
     "metadata": {},
     "output_type": "execute_result"
    }
   ],
   "source": [
    "invertible([[1,2],[3,4]])"
   ]
  },
  {
   "cell_type": "code",
   "execution_count": 16,
   "metadata": {},
   "outputs": [
    {
     "data": {
      "text/plain": [
       "False"
      ]
     },
     "execution_count": 16,
     "metadata": {},
     "output_type": "execute_result"
    }
   ],
   "source": [
    "invertible([[1,1],[3,3]])"
   ]
  }
 ],
 "metadata": {
  "kernelspec": {
   "display_name": "Python 3",
   "language": "python",
   "name": "python3"
  },
  "language_info": {
   "codemirror_mode": {
    "name": "ipython",
    "version": 3
   },
   "file_extension": ".py",
   "mimetype": "text/x-python",
   "name": "python",
   "nbconvert_exporter": "python",
   "pygments_lexer": "ipython3",
   "version": "3.6.4"
  }
 },
 "nbformat": 4,
 "nbformat_minor": 2
}
