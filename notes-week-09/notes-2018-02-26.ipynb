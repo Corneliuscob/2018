{
 "cells": [
  {
   "cell_type": "markdown",
   "metadata": {},
   "source": [
    "# MATH 210 Introduciton to Mathematical Computing\n",
    "\n",
    "## February 26, 2018\n",
    "\n",
    "1. Numerical integration\n",
    "    * Riemann sums\n",
    "    * Trapezoid rule\n",
    "    * Simpson's rule\n",
    "    * QUADPACK\n",
    "2. Numerical differentiation\n",
    "    * (Forward) Difference formula"
   ]
  },
  {
   "cell_type": "code",
   "execution_count": 1,
   "metadata": {},
   "outputs": [],
   "source": [
    "import numpy as np\n",
    "import matplotlib.pyplot as plt\n",
    "import scipy.integrate as spi\n",
    "%matplotlib inline"
   ]
  },
  {
   "cell_type": "markdown",
   "metadata": {},
   "source": [
    "## 1. Numerical integration\n",
    "\n",
    "Let's use trapezoid rule, Simpson's rule and QUADPACK to estimate:\n",
    "\n",
    "$$\n",
    "\\int_0^1 x e^{-x^2} dx = \\left. -\\frac{1}{2}e^{-x^2} \\right|_0^1 = \\frac{1}{2}  \\left( 1 - \\frac{1}{e}\\right)\n",
    "$$"
   ]
  },
  {
   "cell_type": "code",
   "execution_count": 2,
   "metadata": {},
   "outputs": [],
   "source": [
    "N = 10 # number of subintervals\n",
    "x = np.linspace(0,1,N+1)\n",
    "y = x * np.exp(-x**2)\n",
    "\n",
    "trapz_estimate = spi.trapz(y,x)\n",
    "simps_estimate = spi.simps(y,x)\n",
    "\n",
    "I = 0.5*(1 - 1/np.e)"
   ]
  },
  {
   "cell_type": "code",
   "execution_count": 3,
   "metadata": {},
   "outputs": [
    {
     "name": "stdout",
     "output_type": "stream",
     "text": [
      "Error in trapezoid rule: 0.00114124692413\n",
      "Error in Simpson's rule: 5.43998059988e-06\n"
     ]
    }
   ],
   "source": [
    "print('Error in trapezoid rule:',np.abs(I - trapz_estimate))\n",
    "print(\"Error in Simpson's rule:\",np.abs(I - simps_estimate))"
   ]
  },
  {
   "cell_type": "markdown",
   "metadata": {},
   "source": [
    "[QUADPACK](https://docs.scipy.org/doc/scipy/reference/generated/scipy.integrate.quad.html) is an algorithm implemented in Fortran and the SciPy function scipy.integrate.quadpack is a Python wrapper around the Fortran code. This means that QUADPACK is written in Fortran but we can use Python to call it."
   ]
  },
  {
   "cell_type": "markdown",
   "metadata": {},
   "source": [
    "First, consult the documentation to see how to use the function:"
   ]
  },
  {
   "cell_type": "code",
   "execution_count": 4,
   "metadata": {},
   "outputs": [],
   "source": [
    "spi.quad?"
   ]
  },
  {
   "cell_type": "code",
   "execution_count": 5,
   "metadata": {},
   "outputs": [],
   "source": [
    "def f(x):\n",
    "    return x*np.exp(-x**2)\n",
    "\n",
    "result = spi.quad(f,0,1)"
   ]
  },
  {
   "cell_type": "markdown",
   "metadata": {},
   "source": [
    "The output is a tuple where the first value is an approximation of the intergal and the second value is an estimate of the error. Let's unpack the output:"
   ]
  },
  {
   "cell_type": "code",
   "execution_count": 6,
   "metadata": {},
   "outputs": [],
   "source": [
    "quad_estimate, quad_error_estimate = result"
   ]
  },
  {
   "cell_type": "code",
   "execution_count": 7,
   "metadata": {},
   "outputs": [
    {
     "data": {
      "text/plain": [
       "0.31606027941427883"
      ]
     },
     "execution_count": 7,
     "metadata": {},
     "output_type": "execute_result"
    }
   ],
   "source": [
    "quad_estimate"
   ]
  },
  {
   "cell_type": "code",
   "execution_count": 8,
   "metadata": {},
   "outputs": [
    {
     "name": "stdout",
     "output_type": "stream",
     "text": [
      "Error in Quadpack: 0.0\n"
     ]
    }
   ],
   "source": [
    "print(\"Error in Quadpack:\",np.abs(I - quad_estimate))"
   ]
  },
  {
   "cell_type": "code",
   "execution_count": 9,
   "metadata": {},
   "outputs": [
    {
     "data": {
      "text/plain": [
       "0.31606027941427883"
      ]
     },
     "execution_count": 9,
     "metadata": {},
     "output_type": "execute_result"
    }
   ],
   "source": [
    "I"
   ]
  },
  {
   "cell_type": "markdown",
   "metadata": {},
   "source": [
    "QUADPACK returns an approximation which as accurate up to 17 significant digits!"
   ]
  },
  {
   "cell_type": "markdown",
   "metadata": {},
   "source": [
    "Let's do it again but use a lambda function when we call spi.quadpack."
   ]
  },
  {
   "cell_type": "code",
   "execution_count": 10,
   "metadata": {},
   "outputs": [
    {
     "data": {
      "text/plain": [
       "(0.31606027941427883, 3.5089739937519274e-15)"
      ]
     },
     "execution_count": 10,
     "metadata": {},
     "output_type": "execute_result"
    }
   ],
   "source": [
    "spi.quad(lambda x: x*np.exp(-x**2), 0, 1)"
   ]
  },
  {
   "cell_type": "markdown",
   "metadata": {},
   "source": [
    "Let's use QUADPACK to verify the famous formula\n",
    "\n",
    "$$\n",
    "\\int_{-\\infty}^{\\infty} e^{-x^2} dx = \\sqrt{\\pi}\n",
    "$$"
   ]
  },
  {
   "cell_type": "code",
   "execution_count": 11,
   "metadata": {},
   "outputs": [],
   "source": [
    "estimate, error = spi.quad(lambda x: np.exp(-x**2),-np.inf, np.inf)"
   ]
  },
  {
   "cell_type": "code",
   "execution_count": 12,
   "metadata": {},
   "outputs": [
    {
     "data": {
      "text/plain": [
       "1.7724538509055159"
      ]
     },
     "execution_count": 12,
     "metadata": {},
     "output_type": "execute_result"
    }
   ],
   "source": [
    "estimate"
   ]
  },
  {
   "cell_type": "code",
   "execution_count": 13,
   "metadata": {},
   "outputs": [
    {
     "data": {
      "text/plain": [
       "1.7724538509055159"
      ]
     },
     "execution_count": 13,
     "metadata": {},
     "output_type": "execute_result"
    }
   ],
   "source": [
    "np.sqrt(np.pi)"
   ]
  },
  {
   "cell_type": "markdown",
   "metadata": {},
   "source": [
    "## 2. Numerical differentiation\n",
    "\n",
    "The derivative $f'(a)$ of a function $f(x)$ at $x=a$ is the limit\n",
    "\n",
    "$$\n",
    "f'(a) = \\lim_{h \\to 0} \\frac{f(a+h) - f(a)}{h}\n",
    "$$"
   ]
  },
  {
   "cell_type": "markdown",
   "metadata": {},
   "source": [
    "An approximation of $f'(a)$ is the (forward) difference formula (with step size $h$):\n",
    "\n",
    "$$\n",
    "f'(a) \\approx \\frac{f(a+h) - f(a)}{h}\n",
    "$$"
   ]
  },
  {
   "cell_type": "markdown",
   "metadata": {},
   "source": [
    "Let's write a function called `diff` which takes a function `f`, number `a` and number `h` (with default value 0.1) and returns the forward difference for `f` at `a`."
   ]
  },
  {
   "cell_type": "code",
   "execution_count": 14,
   "metadata": {},
   "outputs": [],
   "source": [
    "def diff(f,a,h=0.1):\n",
    "    \"Approximate the derivative f'(a) using the formula (f(a+h) - f(a))/h.\"\n",
    "    return (f(a + h) - f(a))/h"
   ]
  },
  {
   "cell_type": "code",
   "execution_count": 15,
   "metadata": {},
   "outputs": [
    {
     "data": {
      "text/plain": [
       "0.99999999833333342"
      ]
     },
     "execution_count": 15,
     "metadata": {},
     "output_type": "execute_result"
    }
   ],
   "source": [
    "diff(np.sin,0,h=0.0001)"
   ]
  }
 ],
 "metadata": {
  "kernelspec": {
   "display_name": "Python 3",
   "language": "python",
   "name": "python3"
  },
  "language_info": {
   "codemirror_mode": {
    "name": "ipython",
    "version": 3
   },
   "file_extension": ".py",
   "mimetype": "text/x-python",
   "name": "python",
   "nbconvert_exporter": "python",
   "pygments_lexer": "ipython3",
   "version": "3.6.4"
  }
 },
 "nbformat": 4,
 "nbformat_minor": 2
}
