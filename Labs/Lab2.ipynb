{
 "cells": [
  {
   "cell_type": "markdown",
   "metadata": {},
   "source": [
    "# Math 210 - Lab 2\n",
    "\n",
    "## Estimating the value of $\\pi$ using a Monte Carlo Simulation\n",
    "\n",
    "\n",
    "First, we will begin with some needed mathematical background.  We know that the area of a circle is proportional to the square of it's radius, i.e. $A=pr^2$\n",
    "where $p$ is a proportionality constant. We begin by inscribing a circle of radius, $r=1$ into a $2x2$ box.  \n",
    "\n",
    "Let's plot this using numpy and matplotlib!"
   ]
  },
  {
   "cell_type": "code",
   "execution_count": null,
   "metadata": {
    "collapsed": true
   },
   "outputs": [],
   "source": [
    "# Load necessary packages\n",
    "import numpy as np\n",
    "import matplotlib.pyplot as plt\n",
    "\n",
    "%matplotlib inline"
   ]
  },
  {
   "cell_type": "markdown",
   "metadata": {},
   "source": [
    "We will do so using a parametric plot.  Complete the numpy linspace command below so that the plotting command will work as needed."
   ]
  },
  {
   "cell_type": "code",
   "execution_count": null,
   "metadata": {
    "collapsed": true
   },
   "outputs": [],
   "source": [
    "t = np.linspace()"
   ]
  },
  {
   "cell_type": "code",
   "execution_count": null,
   "metadata": {},
   "outputs": [],
   "source": [
    "plt.figure()\n",
    "# Plot the unit circle\n",
    "plt.plot(np.cos(t), np.sin(t), linewidth=3)\n",
    "# Plot the axis\n",
    "plt.axhline(0, color='k')\n",
    "plt.axvline(0, color='k')\n",
    "# Make the figure pretty\n",
    "plt.xlim([-1.02,1.02]);\n",
    "plt.ylim([-1.02,1.02]); \n",
    "plt.axes().set_aspect('equal')"
   ]
  },
  {
   "cell_type": "markdown",
   "metadata": {},
   "source": [
    "Since the circle is of $r=1$, it has area, $A=p$.  \n",
    "\n",
    "\n",
    "If we choose a random point in the 2x2 box, it has the probability of being inside the circle, \n",
    "$$P(\\textrm{in circle}) = \\frac{\\textrm{Area of circle}}{\\textrm{Area of Box}} = \\frac{p}{4}. $$\n",
    "\n",
    "\n",
    "We can then solve for our unknown proportionality constant,\n",
    "$$ p = 4*P(\\textrm{in circle}). $$\n",
    "\n",
    "If we knew the true probability of $P(\\textrm{in circle})$ this would be easy.  However, we can estimate this value using Python!  By generating a large number of $(x,y)$ pairs and figuring out the number in the circle we can get an estimate for $P(\\textrm{in circle})$ and then p.\n",
    "\n",
    "\n",
    "First, use Numpy to create a 1D array of uniformly generated x values and call this array x."
   ]
  },
  {
   "cell_type": "code",
   "execution_count": null,
   "metadata": {
    "collapsed": true
   },
   "outputs": [],
   "source": [
    "# Create a 1D array of 100 randomly chosen x-values\n",
    "x = "
   ]
  },
  {
   "cell_type": "markdown",
   "metadata": {},
   "source": [
    "Now do the same with y-values and call the array y."
   ]
  },
  {
   "cell_type": "code",
   "execution_count": null,
   "metadata": {},
   "outputs": [],
   "source": [
    "# Create a 1D array of 100 randomly chosen y-values\n",
    "y = "
   ]
  },
  {
   "cell_type": "markdown",
   "metadata": {},
   "source": [
    "We now want to combine these lists into a list of coordinate pairs in the plane.  We can do so using Numpy concatenate and then transposing this result.  I have done this for you."
   ]
  },
  {
   "cell_type": "code",
   "execution_count": null,
   "metadata": {},
   "outputs": [],
   "source": [
    "points = np.array((x,y))\n",
    "points = points.T"
   ]
  },
  {
   "cell_type": "markdown",
   "metadata": {},
   "source": [
    "Now print points to the screen and verify it worked properly."
   ]
  },
  {
   "cell_type": "code",
   "execution_count": null,
   "metadata": {},
   "outputs": [],
   "source": [
    "points"
   ]
  },
  {
   "cell_type": "markdown",
   "metadata": {},
   "source": [
    "Now that we know the commands needed to make a Numpy array of (x,y) pairs write a function titled 'random_points' that accepts an integer input N and returns a Numpy array of N points."
   ]
  },
  {
   "cell_type": "code",
   "execution_count": null,
   "metadata": {},
   "outputs": [],
   "source": [
    "def random_points():\n",
    "    \n",
    "    return points"
   ]
  },
  {
   "cell_type": "markdown",
   "metadata": {},
   "source": [
    "We now need to determine if the randomly generated points are inside or outside of the circle.  \n",
    "Write a function called 'in_circle', that accepts the input 'points' and uses a for loop to determine the number of points that are in the circle. The output should be an integer, the number of points in the circle.\n",
    "\n",
    "(Hint: The equation of the circle is $x^2+y^2=1$.) "
   ]
  },
  {
   "cell_type": "code",
   "execution_count": null,
   "metadata": {},
   "outputs": [],
   "source": [
    "def in_circle(points):\n",
    "    \n",
    "    return "
   ]
  },
  {
   "cell_type": "markdown",
   "metadata": {},
   "source": [
    "Now write another function titled 'estimate_p' that uses 'in_circle' to estimate the value of p.  It should return the estimate."
   ]
  },
  {
   "cell_type": "code",
   "execution_count": null,
   "metadata": {},
   "outputs": [],
   "source": [
    "def estimate_p():\n",
    "    \n",
    "    return "
   ]
  },
  {
   "cell_type": "markdown",
   "metadata": {},
   "source": [
    "Using numpy compare your estimated value of p to the known value $\\pi$. "
   ]
  },
  {
   "cell_type": "code",
   "execution_count": null,
   "metadata": {
    "collapsed": true
   },
   "outputs": [],
   "source": []
  },
  {
   "cell_type": "markdown",
   "metadata": {},
   "source": [
    "It's not very accurate.  Good thing we wrote functions!  Now generate $10^6$ $(x,y)$ points and estimate the value of p again and compare to the known value."
   ]
  },
  {
   "cell_type": "code",
   "execution_count": null,
   "metadata": {
    "collapsed": true
   },
   "outputs": [],
   "source": []
  },
  {
   "cell_type": "markdown",
   "metadata": {},
   "source": [
    "If you have time remaining and want to practice matplotlib.  Try plotting the points in the box and coloring them blue for inside the circle and red for outside the circle."
   ]
  },
  {
   "cell_type": "code",
   "execution_count": null,
   "metadata": {
    "collapsed": true
   },
   "outputs": [],
   "source": []
  }
 ],
 "metadata": {
  "kernelspec": {
   "display_name": "Python 3",
   "language": "python",
   "name": "python3"
  },
  "language_info": {
   "codemirror_mode": {
    "name": "ipython",
    "version": 3
   },
   "file_extension": ".py",
   "mimetype": "text/x-python",
   "name": "python",
   "nbconvert_exporter": "python",
   "pygments_lexer": "ipython3",
   "version": "3.6.3"
  }
 },
 "nbformat": 4,
 "nbformat_minor": 2
}
