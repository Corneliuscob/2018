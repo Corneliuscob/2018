{
 "cells": [
  {
   "cell_type": "markdown",
   "metadata": {},
   "source": [
    "# Lab 1: Solution\n",
    "\n",
    "## Calculate the number of years required to save a certain amount R, given initial investment s and interest rate, p.\n",
    "\n",
    "Remark: The lab says to round down to the nearest cent at the end of each year.  This would require more programming than was expected, so this solution rounds to the nearest cent after each year.\n"
   ]
  },
  {
   "cell_type": "code",
   "execution_count": 16,
   "metadata": {},
   "outputs": [],
   "source": [
    "def TimeForHouse(s,R,p):\n",
    "    '''Inputs:  s = Initial Sum\n",
    "                R = Required Sum\n",
    "                p = Annual Interest Rate\n",
    "        Outputs: Number of years to reach required sum, R.\n",
    "                '''\n",
    "    year = 0                      \n",
    "    money = s                     \n",
    "#     print(year, '\\t', money)      # Uncomment to print to screen year 0's value\n",
    "    \n",
    "    # Loop through years until money is greater than or equal to the required sum\n",
    "    while money < R:\n",
    "        money = money + money*p   # New amount is previous amount + interest added\n",
    "        money = round(money,2)    # Round to two decimal places and carry this value forward\n",
    "        year +=1                  # Add next year\n",
    "#         print(year, '\\t', money)  # Uncomment to print to screen each year's value\n",
    "    return year                   # Return year"
   ]
  },
  {
   "cell_type": "code",
   "execution_count": 15,
   "metadata": {},
   "outputs": [
    {
     "data": {
      "text/plain": [
       "35"
      ]
     },
     "execution_count": 15,
     "metadata": {},
     "output_type": "execute_result"
    }
   ],
   "source": [
    "TimeForHouse(100000,1400000,0.08)"
   ]
  },
  {
   "cell_type": "code",
   "execution_count": null,
   "metadata": {
    "collapsed": true
   },
   "outputs": [],
   "source": []
  }
 ],
 "metadata": {
  "kernelspec": {
   "display_name": "Python 3",
   "language": "python",
   "name": "python3"
  },
  "language_info": {
   "codemirror_mode": {
    "name": "ipython",
    "version": 3
   },
   "file_extension": ".py",
   "mimetype": "text/x-python",
   "name": "python",
   "nbconvert_exporter": "python",
   "pygments_lexer": "ipython3",
   "version": "3.6.3"
  }
 },
 "nbformat": 4,
 "nbformat_minor": 2
}
