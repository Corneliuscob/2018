{
 "cells": [
  {
   "cell_type": "markdown",
   "metadata": {},
   "source": [
    "# MATH 210 Introduction to Mathematical Computing\n",
    "\n",
    "## April 4, 2018\n",
    "\n",
    "* Weather data\n",
    "    * Import csv\n",
    "    * Create columns using pandas.apply\n",
    "    * Groupby\n",
    "    * Plots"
   ]
  },
  {
   "cell_type": "code",
   "execution_count": 1,
   "metadata": {},
   "outputs": [],
   "source": [
    "import pandas as pd\n",
    "import numpy as np\n",
    "import matplotlib.pyplot as plt\n",
    "%matplotlib inline"
   ]
  },
  {
   "cell_type": "markdown",
   "metadata": {},
   "source": [
    "The Government of Canada's [Department of Environment and Climate Change](https://www.canada.ca/en/environment-climate-change.html) collects [weather data](https://weather.gc.ca/) across the country. The data is only available in small datasets but the wonderful website [weatherstats.ca](https://www.weatherstats.ca/) has compiled many years of hourly weather data for many cities!\n",
    "\n",
    "I downloaded hourly weather data from the [Vancouver airport weather station](https://vancouver.weatherstats.ca/about.html) from July 2012 until today! I uploaded the `.csv` file to my website so that we can all access the same data. Let's take a look!"
   ]
  },
  {
   "cell_type": "code",
   "execution_count": 2,
   "metadata": {},
   "outputs": [],
   "source": [
    "data = pd.read_csv('https://www.math.ubc.ca/~pwalls/data/weather.csv')"
   ]
  },
  {
   "cell_type": "code",
   "execution_count": 3,
   "metadata": {},
   "outputs": [
    {
     "name": "stdout",
     "output_type": "stream",
     "text": [
      "<class 'pandas.core.frame.DataFrame'>\n",
      "RangeIndex: 50000 entries, 0 to 49999\n",
      "Data columns (total 19 columns):\n",
      "date_time_local      50000 non-null object\n",
      "unixtime             50000 non-null int64\n",
      "pressure_station     50000 non-null float64\n",
      "pressure_sea         50000 non-null float64\n",
      "wind_dir             49246 non-null object\n",
      "wind_dir_10s         49405 non-null float64\n",
      "wind_speed           50000 non-null int64\n",
      "wind_gust            4179 non-null float64\n",
      "relative_humidity    50000 non-null int64\n",
      "dew_point            50000 non-null float64\n",
      "temperature          50000 non-null float64\n",
      "windchill            1968 non-null float64\n",
      "humidex              2439 non-null float64\n",
      "visibility           49981 non-null float64\n",
      "health_index         49554 non-null float64\n",
      "cloud_cover_4        0 non-null float64\n",
      "cloud_cover_8        38820 non-null float64\n",
      "cloud_cover_10       5654 non-null float64\n",
      "solar_radiation      0 non-null float64\n",
      "dtypes: float64(14), int64(3), object(2)\n",
      "memory usage: 7.2+ MB\n"
     ]
    }
   ],
   "source": [
    "data.info()"
   ]
  },
  {
   "cell_type": "code",
   "execution_count": 4,
   "metadata": {},
   "outputs": [
    {
     "data": {
      "text/html": [
       "<div>\n",
       "<table border=\"1\" class=\"dataframe\">\n",
       "  <thead>\n",
       "    <tr style=\"text-align: right;\">\n",
       "      <th></th>\n",
       "      <th>date_time_local</th>\n",
       "      <th>unixtime</th>\n",
       "      <th>pressure_station</th>\n",
       "      <th>pressure_sea</th>\n",
       "      <th>wind_dir</th>\n",
       "      <th>wind_dir_10s</th>\n",
       "      <th>wind_speed</th>\n",
       "      <th>wind_gust</th>\n",
       "      <th>relative_humidity</th>\n",
       "      <th>dew_point</th>\n",
       "      <th>temperature</th>\n",
       "      <th>windchill</th>\n",
       "      <th>humidex</th>\n",
       "      <th>visibility</th>\n",
       "      <th>health_index</th>\n",
       "      <th>cloud_cover_4</th>\n",
       "      <th>cloud_cover_8</th>\n",
       "      <th>cloud_cover_10</th>\n",
       "      <th>solar_radiation</th>\n",
       "    </tr>\n",
       "  </thead>\n",
       "  <tbody>\n",
       "    <tr>\n",
       "      <th>0</th>\n",
       "      <td>2018-04-04 10:00:00 PDT</td>\n",
       "      <td>1522861200</td>\n",
       "      <td>101.85</td>\n",
       "      <td>101.9</td>\n",
       "      <td>ESE</td>\n",
       "      <td>11.0</td>\n",
       "      <td>14</td>\n",
       "      <td>NaN</td>\n",
       "      <td>79</td>\n",
       "      <td>3.9</td>\n",
       "      <td>7.2</td>\n",
       "      <td>NaN</td>\n",
       "      <td>NaN</td>\n",
       "      <td>48300.0</td>\n",
       "      <td>NaN</td>\n",
       "      <td>NaN</td>\n",
       "      <td>NaN</td>\n",
       "      <td>NaN</td>\n",
       "      <td>NaN</td>\n",
       "    </tr>\n",
       "    <tr>\n",
       "      <th>1</th>\n",
       "      <td>2018-04-04 09:00:00 PDT</td>\n",
       "      <td>1522857600</td>\n",
       "      <td>101.81</td>\n",
       "      <td>101.9</td>\n",
       "      <td>ESE</td>\n",
       "      <td>11.0</td>\n",
       "      <td>18</td>\n",
       "      <td>NaN</td>\n",
       "      <td>79</td>\n",
       "      <td>3.2</td>\n",
       "      <td>6.6</td>\n",
       "      <td>NaN</td>\n",
       "      <td>NaN</td>\n",
       "      <td>48300.0</td>\n",
       "      <td>2.6</td>\n",
       "      <td>NaN</td>\n",
       "      <td>8.0</td>\n",
       "      <td>NaN</td>\n",
       "      <td>NaN</td>\n",
       "    </tr>\n",
       "    <tr>\n",
       "      <th>2</th>\n",
       "      <td>2018-04-04 08:00:00 PDT</td>\n",
       "      <td>1522854000</td>\n",
       "      <td>101.80</td>\n",
       "      <td>101.9</td>\n",
       "      <td>E</td>\n",
       "      <td>8.0</td>\n",
       "      <td>17</td>\n",
       "      <td>NaN</td>\n",
       "      <td>78</td>\n",
       "      <td>2.6</td>\n",
       "      <td>6.0</td>\n",
       "      <td>NaN</td>\n",
       "      <td>NaN</td>\n",
       "      <td>48300.0</td>\n",
       "      <td>2.5</td>\n",
       "      <td>NaN</td>\n",
       "      <td>8.0</td>\n",
       "      <td>NaN</td>\n",
       "      <td>NaN</td>\n",
       "    </tr>\n",
       "    <tr>\n",
       "      <th>3</th>\n",
       "      <td>2018-04-04 07:00:00 PDT</td>\n",
       "      <td>1522850400</td>\n",
       "      <td>101.80</td>\n",
       "      <td>101.9</td>\n",
       "      <td>E</td>\n",
       "      <td>9.0</td>\n",
       "      <td>10</td>\n",
       "      <td>NaN</td>\n",
       "      <td>79</td>\n",
       "      <td>1.9</td>\n",
       "      <td>5.3</td>\n",
       "      <td>NaN</td>\n",
       "      <td>NaN</td>\n",
       "      <td>48300.0</td>\n",
       "      <td>2.4</td>\n",
       "      <td>NaN</td>\n",
       "      <td>8.0</td>\n",
       "      <td>NaN</td>\n",
       "      <td>NaN</td>\n",
       "    </tr>\n",
       "    <tr>\n",
       "      <th>4</th>\n",
       "      <td>2018-04-04 06:00:00 PDT</td>\n",
       "      <td>1522846800</td>\n",
       "      <td>101.78</td>\n",
       "      <td>101.8</td>\n",
       "      <td>ESE</td>\n",
       "      <td>10.0</td>\n",
       "      <td>13</td>\n",
       "      <td>NaN</td>\n",
       "      <td>80</td>\n",
       "      <td>2.1</td>\n",
       "      <td>5.2</td>\n",
       "      <td>NaN</td>\n",
       "      <td>NaN</td>\n",
       "      <td>32200.0</td>\n",
       "      <td>2.3</td>\n",
       "      <td>NaN</td>\n",
       "      <td>8.0</td>\n",
       "      <td>NaN</td>\n",
       "      <td>NaN</td>\n",
       "    </tr>\n",
       "  </tbody>\n",
       "</table>\n",
       "</div>"
      ],
      "text/plain": [
       "           date_time_local    unixtime  pressure_station  pressure_sea  \\\n",
       "0  2018-04-04 10:00:00 PDT  1522861200            101.85         101.9   \n",
       "1  2018-04-04 09:00:00 PDT  1522857600            101.81         101.9   \n",
       "2  2018-04-04 08:00:00 PDT  1522854000            101.80         101.9   \n",
       "3  2018-04-04 07:00:00 PDT  1522850400            101.80         101.9   \n",
       "4  2018-04-04 06:00:00 PDT  1522846800            101.78         101.8   \n",
       "\n",
       "  wind_dir  wind_dir_10s  wind_speed  wind_gust  relative_humidity  dew_point  \\\n",
       "0      ESE          11.0          14        NaN                 79        3.9   \n",
       "1      ESE          11.0          18        NaN                 79        3.2   \n",
       "2        E           8.0          17        NaN                 78        2.6   \n",
       "3        E           9.0          10        NaN                 79        1.9   \n",
       "4      ESE          10.0          13        NaN                 80        2.1   \n",
       "\n",
       "   temperature  windchill  humidex  visibility  health_index  cloud_cover_4  \\\n",
       "0          7.2        NaN      NaN     48300.0           NaN            NaN   \n",
       "1          6.6        NaN      NaN     48300.0           2.6            NaN   \n",
       "2          6.0        NaN      NaN     48300.0           2.5            NaN   \n",
       "3          5.3        NaN      NaN     48300.0           2.4            NaN   \n",
       "4          5.2        NaN      NaN     32200.0           2.3            NaN   \n",
       "\n",
       "   cloud_cover_8  cloud_cover_10  solar_radiation  \n",
       "0            NaN             NaN              NaN  \n",
       "1            8.0             NaN              NaN  \n",
       "2            8.0             NaN              NaN  \n",
       "3            8.0             NaN              NaN  \n",
       "4            8.0             NaN              NaN  "
      ]
     },
     "execution_count": 4,
     "metadata": {},
     "output_type": "execute_result"
    }
   ],
   "source": [
    "data.head()"
   ]
  },
  {
   "cell_type": "markdown",
   "metadata": {},
   "source": [
    "There's a lot of data but we'll focus on wind speed and direction, and temperature."
   ]
  },
  {
   "cell_type": "code",
   "execution_count": 5,
   "metadata": {},
   "outputs": [],
   "source": [
    "data = pd.read_csv('https://www.math.ubc.ca/~pwalls/data/weather.csv',usecols=[0,4,6,10])"
   ]
  },
  {
   "cell_type": "code",
   "execution_count": 6,
   "metadata": {},
   "outputs": [
    {
     "data": {
      "text/html": [
       "<div>\n",
       "<table border=\"1\" class=\"dataframe\">\n",
       "  <thead>\n",
       "    <tr style=\"text-align: right;\">\n",
       "      <th></th>\n",
       "      <th>date_time_local</th>\n",
       "      <th>wind_dir</th>\n",
       "      <th>wind_speed</th>\n",
       "      <th>temperature</th>\n",
       "    </tr>\n",
       "  </thead>\n",
       "  <tbody>\n",
       "    <tr>\n",
       "      <th>0</th>\n",
       "      <td>2018-04-04 10:00:00 PDT</td>\n",
       "      <td>ESE</td>\n",
       "      <td>14</td>\n",
       "      <td>7.2</td>\n",
       "    </tr>\n",
       "    <tr>\n",
       "      <th>1</th>\n",
       "      <td>2018-04-04 09:00:00 PDT</td>\n",
       "      <td>ESE</td>\n",
       "      <td>18</td>\n",
       "      <td>6.6</td>\n",
       "    </tr>\n",
       "    <tr>\n",
       "      <th>2</th>\n",
       "      <td>2018-04-04 08:00:00 PDT</td>\n",
       "      <td>E</td>\n",
       "      <td>17</td>\n",
       "      <td>6.0</td>\n",
       "    </tr>\n",
       "    <tr>\n",
       "      <th>3</th>\n",
       "      <td>2018-04-04 07:00:00 PDT</td>\n",
       "      <td>E</td>\n",
       "      <td>10</td>\n",
       "      <td>5.3</td>\n",
       "    </tr>\n",
       "    <tr>\n",
       "      <th>4</th>\n",
       "      <td>2018-04-04 06:00:00 PDT</td>\n",
       "      <td>ESE</td>\n",
       "      <td>13</td>\n",
       "      <td>5.2</td>\n",
       "    </tr>\n",
       "  </tbody>\n",
       "</table>\n",
       "</div>"
      ],
      "text/plain": [
       "           date_time_local wind_dir  wind_speed  temperature\n",
       "0  2018-04-04 10:00:00 PDT      ESE          14          7.2\n",
       "1  2018-04-04 09:00:00 PDT      ESE          18          6.6\n",
       "2  2018-04-04 08:00:00 PDT        E          17          6.0\n",
       "3  2018-04-04 07:00:00 PDT        E          10          5.3\n",
       "4  2018-04-04 06:00:00 PDT      ESE          13          5.2"
      ]
     },
     "execution_count": 6,
     "metadata": {},
     "output_type": "execute_result"
    }
   ],
   "source": [
    "data.head()"
   ]
  },
  {
   "cell_type": "code",
   "execution_count": 7,
   "metadata": {},
   "outputs": [
    {
     "name": "stdout",
     "output_type": "stream",
     "text": [
      "<class 'pandas.core.frame.DataFrame'>\n",
      "RangeIndex: 50000 entries, 0 to 49999\n",
      "Data columns (total 4 columns):\n",
      "date_time_local    50000 non-null object\n",
      "wind_dir           49246 non-null object\n",
      "wind_speed         50000 non-null int64\n",
      "temperature        50000 non-null float64\n",
      "dtypes: float64(1), int64(1), object(2)\n",
      "memory usage: 1.5+ MB\n"
     ]
    }
   ],
   "source": [
    "data.info()"
   ]
  },
  {
   "cell_type": "markdown",
   "metadata": {},
   "source": [
    "It would be great to get the year, month, day and hour of the data as new columns. The pandas [datetime](https://pandas.pydata.org/pandas-docs/stable/timeseries.html) object would be the best tool here but let's try it a different way."
   ]
  },
  {
   "cell_type": "markdown",
   "metadata": {},
   "source": [
    "Let's look at the first string in the data."
   ]
  },
  {
   "cell_type": "code",
   "execution_count": 8,
   "metadata": {},
   "outputs": [],
   "source": [
    "first_row_date = data['date_time_local'][0]"
   ]
  },
  {
   "cell_type": "code",
   "execution_count": 9,
   "metadata": {},
   "outputs": [
    {
     "name": "stdout",
     "output_type": "stream",
     "text": [
      "2018-04-04 10:00:00 PDT\n"
     ]
    }
   ],
   "source": [
    "print(first_row_date)"
   ]
  },
  {
   "cell_type": "code",
   "execution_count": 10,
   "metadata": {},
   "outputs": [
    {
     "data": {
      "text/plain": [
       "str"
      ]
     },
     "execution_count": 10,
     "metadata": {},
     "output_type": "execute_result"
    }
   ],
   "source": [
    "type(first_row_date)"
   ]
  },
  {
   "cell_type": "markdown",
   "metadata": {},
   "source": [
    "A string is a list of characters and so we can select out the year as the first 4 characters (and convert to an integer). Let's pull the year out of the string as an integer!"
   ]
  },
  {
   "cell_type": "code",
   "execution_count": 11,
   "metadata": {},
   "outputs": [
    {
     "data": {
      "text/plain": [
       "2018"
      ]
     },
     "execution_count": 11,
     "metadata": {},
     "output_type": "execute_result"
    }
   ],
   "source": [
    "int(first_row_date[0:4])"
   ]
  },
  {
   "cell_type": "markdown",
   "metadata": {},
   "source": [
    "Let's write a function which does this operation."
   ]
  },
  {
   "cell_type": "code",
   "execution_count": 12,
   "metadata": {},
   "outputs": [],
   "source": [
    "def get_year(text):\n",
    "    return int(text[0:4])"
   ]
  },
  {
   "cell_type": "code",
   "execution_count": 13,
   "metadata": {},
   "outputs": [
    {
     "data": {
      "text/plain": [
       "2018"
      ]
     },
     "execution_count": 13,
     "metadata": {},
     "output_type": "execute_result"
    }
   ],
   "source": [
    "get_year('2018-04-04 10:00:00 PDT')"
   ]
  },
  {
   "cell_type": "markdown",
   "metadata": {},
   "source": [
    "Now let's apply this to the whole date column to create a new column for the year! Check out the documentation for [pandas.apply](https://pandas.pydata.org/pandas-docs/stable/generated/pandas.DataFrame.apply.html)."
   ]
  },
  {
   "cell_type": "code",
   "execution_count": 14,
   "metadata": {},
   "outputs": [],
   "source": [
    "data['year'] = data['date_time_local'].apply(get_year)"
   ]
  },
  {
   "cell_type": "markdown",
   "metadata": {},
   "source": [
    "Let's do the same for the month, day and hour!"
   ]
  },
  {
   "cell_type": "code",
   "execution_count": 15,
   "metadata": {},
   "outputs": [],
   "source": [
    "def get_month(text):\n",
    "    return int(text[5:7])\n",
    "\n",
    "def get_day(text):\n",
    "    return int(text[8:10])\n",
    "\n",
    "def get_hour(text):\n",
    "    return int(text[11:13])\n",
    "\n",
    "data['month'] = data['date_time_local'].apply(get_month)\n",
    "data['day'] = data['date_time_local'].apply(get_day)\n",
    "data['hour'] = data['date_time_local'].apply(get_hour)"
   ]
  },
  {
   "cell_type": "code",
   "execution_count": 16,
   "metadata": {},
   "outputs": [
    {
     "data": {
      "text/html": [
       "<div>\n",
       "<table border=\"1\" class=\"dataframe\">\n",
       "  <thead>\n",
       "    <tr style=\"text-align: right;\">\n",
       "      <th></th>\n",
       "      <th>date_time_local</th>\n",
       "      <th>wind_dir</th>\n",
       "      <th>wind_speed</th>\n",
       "      <th>temperature</th>\n",
       "      <th>year</th>\n",
       "      <th>month</th>\n",
       "      <th>day</th>\n",
       "      <th>hour</th>\n",
       "    </tr>\n",
       "  </thead>\n",
       "  <tbody>\n",
       "    <tr>\n",
       "      <th>0</th>\n",
       "      <td>2018-04-04 10:00:00 PDT</td>\n",
       "      <td>ESE</td>\n",
       "      <td>14</td>\n",
       "      <td>7.2</td>\n",
       "      <td>2018</td>\n",
       "      <td>4</td>\n",
       "      <td>4</td>\n",
       "      <td>10</td>\n",
       "    </tr>\n",
       "    <tr>\n",
       "      <th>1</th>\n",
       "      <td>2018-04-04 09:00:00 PDT</td>\n",
       "      <td>ESE</td>\n",
       "      <td>18</td>\n",
       "      <td>6.6</td>\n",
       "      <td>2018</td>\n",
       "      <td>4</td>\n",
       "      <td>4</td>\n",
       "      <td>9</td>\n",
       "    </tr>\n",
       "    <tr>\n",
       "      <th>2</th>\n",
       "      <td>2018-04-04 08:00:00 PDT</td>\n",
       "      <td>E</td>\n",
       "      <td>17</td>\n",
       "      <td>6.0</td>\n",
       "      <td>2018</td>\n",
       "      <td>4</td>\n",
       "      <td>4</td>\n",
       "      <td>8</td>\n",
       "    </tr>\n",
       "    <tr>\n",
       "      <th>3</th>\n",
       "      <td>2018-04-04 07:00:00 PDT</td>\n",
       "      <td>E</td>\n",
       "      <td>10</td>\n",
       "      <td>5.3</td>\n",
       "      <td>2018</td>\n",
       "      <td>4</td>\n",
       "      <td>4</td>\n",
       "      <td>7</td>\n",
       "    </tr>\n",
       "    <tr>\n",
       "      <th>4</th>\n",
       "      <td>2018-04-04 06:00:00 PDT</td>\n",
       "      <td>ESE</td>\n",
       "      <td>13</td>\n",
       "      <td>5.2</td>\n",
       "      <td>2018</td>\n",
       "      <td>4</td>\n",
       "      <td>4</td>\n",
       "      <td>6</td>\n",
       "    </tr>\n",
       "  </tbody>\n",
       "</table>\n",
       "</div>"
      ],
      "text/plain": [
       "           date_time_local wind_dir  wind_speed  temperature  year  month  \\\n",
       "0  2018-04-04 10:00:00 PDT      ESE          14          7.2  2018      4   \n",
       "1  2018-04-04 09:00:00 PDT      ESE          18          6.6  2018      4   \n",
       "2  2018-04-04 08:00:00 PDT        E          17          6.0  2018      4   \n",
       "3  2018-04-04 07:00:00 PDT        E          10          5.3  2018      4   \n",
       "4  2018-04-04 06:00:00 PDT      ESE          13          5.2  2018      4   \n",
       "\n",
       "   day  hour  \n",
       "0    4    10  \n",
       "1    4     9  \n",
       "2    4     8  \n",
       "3    4     7  \n",
       "4    4     6  "
      ]
     },
     "execution_count": 16,
     "metadata": {},
     "output_type": "execute_result"
    }
   ],
   "source": [
    "data.head()"
   ]
  },
  {
   "cell_type": "markdown",
   "metadata": {},
   "source": [
    "Let's look at average temperature by month."
   ]
  },
  {
   "cell_type": "code",
   "execution_count": 17,
   "metadata": {},
   "outputs": [
    {
     "data": {
      "image/png": "[encoded data removed]",
      "text/plain": [
       "<Figure size 432x288 with 1 Axes>"
      ]
     },
     "metadata": {},
     "output_type": "display_data"
    }
   ],
   "source": [
    "data.groupby('month')['temperature'].mean().plot(kind='bar')\n",
    "plt.title('Average Monthly Temperature, 2012-2017')\n",
    "plt.xlabel('Month')\n",
    "plt.ylabel('Temperature (Celsius)')\n",
    "plt.ylim([0,20])\n",
    "plt.show()"
   ]
  },
  {
   "cell_type": "markdown",
   "metadata": {},
   "source": [
    "Let's do the same but compare year to year. We don't have all data for 2012 or 2018 so we'll restrict our attention to 2013-2017."
   ]
  },
  {
   "cell_type": "code",
   "execution_count": 18,
   "metadata": {},
   "outputs": [],
   "source": [
    "temps = data.groupby(['month','year'])['temperature'].mean().unstack()"
   ]
  },
  {
   "cell_type": "code",
   "execution_count": 19,
   "metadata": {},
   "outputs": [
    {
     "data": {
      "image/png": "[encoded data removed]",
      "text/plain": [
       "<Figure size 432x288 with 1 Axes>"
      ]
     },
     "metadata": {},
     "output_type": "display_data"
    }
   ],
   "source": [
    "temps[[2013,2014,2015,2016,2017]].plot()\n",
    "plt.title('Average Monthly Temperature by Year, 2013-2017')\n",
    "plt.xlabel('Month')\n",
    "plt.ylabel('Temperature (Celsius)')\n",
    "plt.ylim([0,20])\n",
    "plt.show()"
   ]
  },
  {
   "cell_type": "markdown",
   "metadata": {},
   "source": [
    "Let's look at the predominant wind direction!"
   ]
  },
  {
   "cell_type": "code",
   "execution_count": 20,
   "metadata": {},
   "outputs": [
    {
     "data": {
      "image/png": "[encoded data removed]",
      "text/plain": [
       "<Figure size 432x288 with 1 Axes>"
      ]
     },
     "metadata": {},
     "output_type": "display_data"
    }
   ],
   "source": [
    "data.groupby('wind_dir').size().plot(kind='bar')\n",
    "plt.title('Total Wind Direction Measurements, 2012-2018')\n",
    "plt.xlabel('Wind Direction')\n",
    "plt.ylabel('Number of Measurements')\n",
    "plt.show()"
   ]
  },
  {
   "cell_type": "code",
   "execution_count": 21,
   "metadata": {},
   "outputs": [
    {
     "data": {
      "image/png": "[encoded data removed]",
      "text/plain": [
       "<Figure size 432x288 with 1 Axes>"
      ]
     },
     "metadata": {},
     "output_type": "display_data"
    }
   ],
   "source": [
    "data.groupby('wind_dir')['wind_speed'].mean().plot(kind='bar')\n",
    "plt.title('Average Wind Speed by Wind Direction, 2012-2018')\n",
    "plt.xlabel('Wind Direction')\n",
    "plt.ylabel('Wind Speed (km/h)')\n",
    "plt.show()"
   ]
  }
 ],
 "metadata": {
  "kernelspec": {
   "display_name": "Python 3",
   "language": "python",
   "name": "python3"
  },
  "language_info": {
   "codemirror_mode": {
    "name": "ipython",
    "version": 3
   },
   "file_extension": ".py",
   "mimetype": "text/x-python",
   "name": "python",
   "nbconvert_exporter": "python",
   "pygments_lexer": "ipython3",
   "version": "3.6.4"
  }
 },
 "nbformat": 4,
 "nbformat_minor": 2
}
