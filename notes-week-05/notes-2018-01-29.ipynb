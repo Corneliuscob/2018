{
 "cells": [
  {
   "cell_type": "markdown",
   "metadata": {},
   "source": [
    "# MATH 210 Introduction to Mathematical Computing\n",
    "\n",
    "## January 29, 2018\n",
    "\n",
    "1. Text data\n",
    "    * Creating strings\n",
    "    * Strings are sequences\n",
    "    * String methods\n",
    "2. Modules and Packages"
   ]
  },
  {
   "cell_type": "markdown",
   "metadata": {},
   "source": [
    "## 1. Text data"
   ]
  },
  {
   "cell_type": "markdown",
   "metadata": {},
   "source": [
    "### Creating strings\n",
    "\n",
    "The text datatype in Python is called [string](https://docs.python.org/3/tutorial/introduction.html#strings) (`str`). We write strings by typing text enclosed in single or double or triple quotes."
   ]
  },
  {
   "cell_type": "code",
   "execution_count": 1,
   "metadata": {},
   "outputs": [],
   "source": [
    "course = 'MATH 210 Introduction to Mathematical Computing'"
   ]
  },
  {
   "cell_type": "code",
   "execution_count": 2,
   "metadata": {},
   "outputs": [
    {
     "name": "stdout",
     "output_type": "stream",
     "text": [
      "MATH 210 Introduction to Mathematical Computing\n"
     ]
    }
   ],
   "source": [
    "print(course)"
   ]
  },
  {
   "cell_type": "code",
   "execution_count": 3,
   "metadata": {},
   "outputs": [
    {
     "data": {
      "text/plain": [
       "str"
      ]
     },
     "execution_count": 3,
     "metadata": {},
     "output_type": "execute_result"
    }
   ],
   "source": [
    "type(course)"
   ]
  },
  {
   "cell_type": "markdown",
   "metadata": {},
   "source": [
    "Or use double quotes:"
   ]
  },
  {
   "cell_type": "code",
   "execution_count": 4,
   "metadata": {},
   "outputs": [],
   "source": [
    "course = \"MATH 210 Introduction to Mathematical Computing\""
   ]
  },
  {
   "cell_type": "code",
   "execution_count": 5,
   "metadata": {},
   "outputs": [
    {
     "name": "stdout",
     "output_type": "stream",
     "text": [
      "MATH 210 Introduction to Mathematical Computing\n"
     ]
    }
   ],
   "source": [
    "print(course)"
   ]
  },
  {
   "cell_type": "markdown",
   "metadata": {},
   "source": [
    "Generally, we use double quote's if our string contains a single quote."
   ]
  },
  {
   "cell_type": "code",
   "execution_count": 6,
   "metadata": {},
   "outputs": [],
   "source": [
    "today = \"It's a rainy day.\""
   ]
  },
  {
   "cell_type": "code",
   "execution_count": 7,
   "metadata": {},
   "outputs": [
    {
     "name": "stdout",
     "output_type": "stream",
     "text": [
      "It's a rainy day.\n"
     ]
    }
   ],
   "source": [
    "print(today)"
   ]
  },
  {
   "cell_type": "markdown",
   "metadata": {},
   "source": [
    "Use triple quotes to write a multiline string:"
   ]
  },
  {
   "cell_type": "code",
   "execution_count": 8,
   "metadata": {},
   "outputs": [],
   "source": [
    "lyrics = '''To the left, to the left\n",
    "To the left, to the left\n",
    "To the left, to the left\n",
    "Everything you own in the box to the left\n",
    "In the closet that's my stuff, yes\n",
    "If I bought it please don't touch'''"
   ]
  },
  {
   "cell_type": "code",
   "execution_count": 9,
   "metadata": {},
   "outputs": [
    {
     "name": "stdout",
     "output_type": "stream",
     "text": [
      "To the left, to the left\n",
      "To the left, to the left\n",
      "To the left, to the left\n",
      "Everything you own in the box to the left\n",
      "In the closet that's my stuff, yes\n",
      "If I bought it please don't touch\n"
     ]
    }
   ],
   "source": [
    "print(lyrics)"
   ]
  },
  {
   "cell_type": "markdown",
   "metadata": {},
   "source": [
    "### Strings are sequences\n",
    "\n",
    "A string is a sequence type and so we can use strings in `for` loops and list comprehensions. For example:"
   ]
  },
  {
   "cell_type": "code",
   "execution_count": 10,
   "metadata": {},
   "outputs": [
    {
     "name": "stdout",
     "output_type": "stream",
     "text": [
      "Gimme a Math!\n",
      "Gimme a Math!\n",
      "Gimme a Math!\n",
      "Gimme a Math!\n",
      "What does that spell?! Math!\n"
     ]
    }
   ],
   "source": [
    "word = 'Math'\n",
    "for letter in word:\n",
    "    print('Gimme a',word + '!')\n",
    "print('What does that spell?!',word + '!')"
   ]
  },
  {
   "cell_type": "markdown",
   "metadata": {},
   "source": [
    "Note that the addition operator acts as concatenation of strings:"
   ]
  },
  {
   "cell_type": "code",
   "execution_count": 11,
   "metadata": {},
   "outputs": [
    {
     "data": {
      "text/plain": [
       "'MATH210'"
      ]
     },
     "execution_count": 11,
     "metadata": {},
     "output_type": "execute_result"
    }
   ],
   "source": [
    "'MATH' + '210'"
   ]
  },
  {
   "cell_type": "markdown",
   "metadata": {},
   "source": [
    "We can also convert strings to lists of characters:"
   ]
  },
  {
   "cell_type": "code",
   "execution_count": 12,
   "metadata": {},
   "outputs": [
    {
     "data": {
      "text/plain": [
       "['M', 'a', 't', 'h', 'e', 'm', 'a', 't', 'i', 'c', 's']"
      ]
     },
     "execution_count": 12,
     "metadata": {},
     "output_type": "execute_result"
    }
   ],
   "source": [
    "list('Mathematics')"
   ]
  },
  {
   "cell_type": "markdown",
   "metadata": {},
   "source": [
    "Use index syntax just like for lists to access characters in a string:"
   ]
  },
  {
   "cell_type": "code",
   "execution_count": 13,
   "metadata": {},
   "outputs": [],
   "source": [
    "password = 'syzygy'"
   ]
  },
  {
   "cell_type": "code",
   "execution_count": 14,
   "metadata": {},
   "outputs": [
    {
     "data": {
      "text/plain": [
       "'z'"
      ]
     },
     "execution_count": 14,
     "metadata": {},
     "output_type": "execute_result"
    }
   ],
   "source": [
    "password[2]"
   ]
  },
  {
   "cell_type": "markdown",
   "metadata": {},
   "source": [
    "### String methods\n",
    "\n",
    "There are *many* [string methods](https://docs.python.org/3/library/stdtypes.html#string-methods) available to manipulate strings. Let's try a few methods:"
   ]
  },
  {
   "cell_type": "code",
   "execution_count": 15,
   "metadata": {},
   "outputs": [],
   "source": [
    "sentence = \"The quick brown fox jumped over the lazy dog.\""
   ]
  },
  {
   "cell_type": "code",
   "execution_count": 16,
   "metadata": {},
   "outputs": [],
   "source": [
    "uppercase_sentence = sentence.upper()"
   ]
  },
  {
   "cell_type": "code",
   "execution_count": 17,
   "metadata": {},
   "outputs": [
    {
     "data": {
      "text/plain": [
       "'The quick brown fox jumped over the lazy dog.'"
      ]
     },
     "execution_count": 17,
     "metadata": {},
     "output_type": "execute_result"
    }
   ],
   "source": [
    "sentence"
   ]
  },
  {
   "cell_type": "code",
   "execution_count": 18,
   "metadata": {},
   "outputs": [
    {
     "data": {
      "text/plain": [
       "'THE QUICK BROWN FOX JUMPED OVER THE LAZY DOG.'"
      ]
     },
     "execution_count": 18,
     "metadata": {},
     "output_type": "execute_result"
    }
   ],
   "source": [
    "uppercase_sentence"
   ]
  },
  {
   "cell_type": "markdown",
   "metadata": {},
   "source": [
    "A string (like all Python datatypes) is an [*object*](https://docs.python.org/3/tutorial/classes.html): it's a collection of data *and* methods for manipulating the data. We use the dot notation to access the methods of an object."
   ]
  },
  {
   "cell_type": "code",
   "execution_count": 19,
   "metadata": {},
   "outputs": [],
   "source": [
    "euler = \"Euler's Method\""
   ]
  },
  {
   "cell_type": "code",
   "execution_count": 20,
   "metadata": {},
   "outputs": [
    {
     "data": {
      "text/plain": [
       "\"3uler's Method\""
      ]
     },
     "execution_count": 20,
     "metadata": {},
     "output_type": "execute_result"
    }
   ],
   "source": [
    "euler.replace('E','3')"
   ]
  },
  {
   "cell_type": "code",
   "execution_count": 21,
   "metadata": {},
   "outputs": [
    {
     "data": {
      "text/plain": [
       "<function str.replace>"
      ]
     },
     "execution_count": 21,
     "metadata": {},
     "output_type": "execute_result"
    }
   ],
   "source": [
    "euler.replace"
   ]
  },
  {
   "cell_type": "markdown",
   "metadata": {},
   "source": [
    "## 2. Modules"
   ]
  },
  {
   "cell_type": "markdown",
   "metadata": {},
   "source": [
    "A [module](https://docs.python.org/3/tutorial/modules.html) is a file (with extension `.py`) containing Python code. We import modules with the `import` keyword and access the functions and variables defined in the module by the .dot notation."
   ]
  },
  {
   "cell_type": "markdown",
   "metadata": {},
   "source": [
    "For example, let's create a module called `poly` which puts together all the polynomial functions from Assignment 1. Open a new `.txt` file, paste the code below into the empty file, and save as `poly.py`. Make sure to save the file in the same directory as this notebook!"
   ]
  },
  {
   "cell_type": "markdown",
   "metadata": {},
   "source": [
    "```\n",
    "# poly.py\n",
    "\n",
    "def poly_diff(p):\n",
    "    '''Compute the derivative of a polynomial p(x) = a0 + a1*x + a2*x**2 + ... + an*x**n.\n",
    "    \n",
    "    Input:\n",
    "        p : list of length n+1 [a0,a1,a2,...,an] representing\n",
    "            a polynomial p(x) = a0 + a1*x + a2*x**2 + ... + an*x**n.\n",
    "    Output:\n",
    "        List [a1,2*a2,...,n*an] of length n (or [0] if n=0) representing the derivative p'(x).\n",
    "    Example:\n",
    "        >>> poly_diff([1,2,3,4])\n",
    "        [2, 6, 12]\n",
    "    '''\n",
    "    deg_p = len(p) - 1\n",
    "    if deg_p == 0:\n",
    "        return [0]\n",
    "    else:\n",
    "        return [p[k]*k for k in range(1,deg_p+1)]\n",
    "\n",
    "def poly_eval(p,a):\n",
    "    '''Evaluate p(a) for p(x) = a0 + a1*x + a2*x**2 + ... + an*x**n.\n",
    "    \n",
    "    Input:\n",
    "        p : list of length n+1 [a0,a1,a2,...,an] representing\n",
    "            a polynomial p(x) = a0 + a1*x + a2*x**2 + ... + an*x**n.\n",
    "        a : number\n",
    "    Output:\n",
    "        Polynomial p(x) evaluated at a.\n",
    "    Example:\n",
    "        >>> poly_eval([1,2,3,4],-2)\n",
    "        -23\n",
    "    '''\n",
    "    return sum([p[k]*a**k for k in range(0,len(p))])\n",
    "\n",
    "def poly_max(p,a,b,N):\n",
    "    '''Approximate the maximum value of p(x) = a0 + a1*x + a2*x**2 + ... + an*x**n in the interval [a,b].\n",
    "    \n",
    "    Input:\n",
    "        p : list of length n+1 [a0,a1,a2,...,an] representing\n",
    "            a polynomial p(x) = a0 + a1*x + a2*x**2 + ... + an*x**n.\n",
    "        a,b : numbers defining the interval [a,b]\n",
    "        N : positive integer defining the length of the partition x0 = a, x1, x2, ... , xN = b\n",
    "    Output:\n",
    "        Maximum value from the list of values p(x0), p(x1), p(x2), ... , p(xN).\n",
    "    Example:\n",
    "        >>> poly_max([1,0,-1],-1,1,10)\n",
    "        1.0\n",
    "    '''\n",
    "    h = (b - a)/N # Length of each subinterval\n",
    "    x_values = [a + h*k for k in range(0,N+1)] # Partition interval x0 = a, x1, x2, ... , xN = b\n",
    "    y_values = [poly_eval(p,x) for x in x_values] # Compute y values y = p(x)\n",
    "    return max(y_values)\n",
    "```"
   ]
  },
  {
   "cell_type": "markdown",
   "metadata": {},
   "source": [
    "Let's import our module! The [import](https://docs.python.org/3/reference/import.html) keyword loads our file into the current Python environment, creates a module object named `poly` and assigns all the functions in our file to the variable name `poly`."
   ]
  },
  {
   "cell_type": "code",
   "execution_count": 22,
   "metadata": {},
   "outputs": [],
   "source": [
    "import poly"
   ]
  },
  {
   "cell_type": "markdown",
   "metadata": {},
   "source": [
    "We can use the Jupyter magic `whos` to see that the module name is available in the current Python environment:"
   ]
  },
  {
   "cell_type": "code",
   "execution_count": 23,
   "metadata": {},
   "outputs": [
    {
     "name": "stdout",
     "output_type": "stream",
     "text": [
      "Variable             Type      Data/Info\n",
      "----------------------------------------\n",
      "course               str       MATH 210 Introduction to Mathematical Computing\n",
      "euler                str       Euler's Method\n",
      "letter               str       h\n",
      "lyrics               str       To the left, to the left\\<...>ght it please don't touch\n",
      "password             str       syzygy\n",
      "poly                 module    <module 'poly' from '/hom<...>t/math210/notes/poly.py'>\n",
      "sentence             str       The quick brown fox jumped over the lazy dog.\n",
      "today                str       It's a rainy day.\n",
      "uppercase_sentence   str       THE QUICK BROWN FOX JUMPED OVER THE LAZY DOG.\n",
      "word                 str       Math\n"
     ]
    }
   ],
   "source": [
    "whos"
   ]
  },
  {
   "cell_type": "markdown",
   "metadata": {},
   "source": [
    "Use the built-in function `dir` to list the functions available in the module:"
   ]
  },
  {
   "cell_type": "code",
   "execution_count": 24,
   "metadata": {},
   "outputs": [
    {
     "data": {
      "text/plain": [
       "['__builtins__',\n",
       " '__cached__',\n",
       " '__doc__',\n",
       " '__file__',\n",
       " '__loader__',\n",
       " '__name__',\n",
       " '__package__',\n",
       " '__spec__',\n",
       " 'poly_diff',\n",
       " 'poly_eval',\n",
       " 'poly_max']"
      ]
     },
     "execution_count": 24,
     "metadata": {},
     "output_type": "execute_result"
    }
   ],
   "source": [
    "dir(poly)"
   ]
  },
  {
   "cell_type": "markdown",
   "metadata": {},
   "source": [
    "The items with double underscores `__` are methods attached to all module objects."
   ]
  },
  {
   "cell_type": "markdown",
   "metadata": {},
   "source": [
    "Finally, let's verify the type of `poly`:"
   ]
  },
  {
   "cell_type": "code",
   "execution_count": 25,
   "metadata": {},
   "outputs": [
    {
     "data": {
      "text/plain": [
       "module"
      ]
     },
     "execution_count": 25,
     "metadata": {},
     "output_type": "execute_result"
    }
   ],
   "source": [
    "type(poly)"
   ]
  },
  {
   "cell_type": "markdown",
   "metadata": {},
   "source": [
    "Use our module to differentiate $p(x) = 1 - 2x + 3x^2 - 4x^3$:"
   ]
  },
  {
   "cell_type": "code",
   "execution_count": 26,
   "metadata": {},
   "outputs": [
    {
     "data": {
      "text/plain": [
       "[-2, 6, -12]"
      ]
     },
     "execution_count": 26,
     "metadata": {},
     "output_type": "execute_result"
    }
   ],
   "source": [
    "p = [1,-2,3,-4]\n",
    "poly.poly_diff(p)"
   ]
  },
  {
   "cell_type": "markdown",
   "metadata": {},
   "source": [
    "Use our module to compute $q(11)$ for $q(x) = 3 + x^2 - x^5$:"
   ]
  },
  {
   "cell_type": "code",
   "execution_count": 27,
   "metadata": {},
   "outputs": [
    {
     "data": {
      "text/plain": [
       "-160927"
      ]
     },
     "execution_count": 27,
     "metadata": {},
     "output_type": "execute_result"
    }
   ],
   "source": [
    "poly.poly_eval([3,0,1,0,0,-1],11)"
   ]
  },
  {
   "cell_type": "markdown",
   "metadata": {},
   "source": [
    "Use our module to approximate the maximum of $f(x) = 5 + 2x + x^2 - 10x^3$ on the interval $[-10,10]$:"
   ]
  },
  {
   "cell_type": "code",
   "execution_count": 28,
   "metadata": {},
   "outputs": [
    {
     "data": {
      "text/plain": [
       "10085.0"
      ]
     },
     "execution_count": 28,
     "metadata": {},
     "output_type": "execute_result"
    }
   ],
   "source": [
    "poly.poly_max([5,2,1,-10],-10,10,1000)"
   ]
  }
 ],
 "metadata": {
  "kernelspec": {
   "display_name": "Python 3",
   "language": "python",
   "name": "python3"
  },
  "language_info": {
   "codemirror_mode": {
    "name": "ipython",
    "version": 3
   },
   "file_extension": ".py",
   "mimetype": "text/x-python",
   "name": "python",
   "nbconvert_exporter": "python",
   "pygments_lexer": "ipython3",
   "version": "3.6.4"
  }
 },
 "nbformat": 4,
 "nbformat_minor": 2
}
