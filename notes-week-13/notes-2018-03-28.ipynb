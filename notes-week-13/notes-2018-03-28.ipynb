{
 "cells": [
  {
   "cell_type": "markdown",
   "metadata": {},
   "source": [
    "# MATH 210 Introduction to Mathematical Computing\n",
    "\n",
    "## March 28, 2018\n",
    "\n",
    "* Import data with pandas.read_csv"
   ]
  },
  {
   "cell_type": "code",
   "execution_count": 1,
   "metadata": {},
   "outputs": [],
   "source": [
    "import numpy as np\n",
    "import pandas as pd\n",
    "import matplotlib.pyplot as plt\n",
    "%matplotlib inline"
   ]
  },
  {
   "cell_type": "markdown",
   "metadata": {},
   "source": [
    "### Importing data with pandas.read_csv"
   ]
  },
  {
   "cell_type": "markdown",
   "metadata": {},
   "source": [
    "The most important step in data analysis is importing the data properly! Let's try an example. Go to the [Government of Canada's Open Data Portal](https://open.canada.ca/data/en/dataset?portal_type=dataset) and serach \"university\". The 9th result should be \"Number and salaries of full-time teaching staff at canadian universities\". Let's download the dataset as a `.csv`, unzip the download, upload the data to `ubc.syzygy.ca` into the same directory as this notebook, and finally import the data with `pandas.read_csv`. See the [documentation](https://pandas.pydata.org/pandas-docs/stable/generated/pandas.read_csv.html)."
   ]
  },
  {
   "cell_type": "code",
   "execution_count": 2,
   "metadata": {},
   "outputs": [
    {
     "ename": "UnicodeDecodeError",
     "evalue": "'utf-8' codec can't decode byte 0xe9 in position 9: invalid continuation byte",
     "output_type": "error",
     "traceback": [
      "\u001b[0;31m---------------------------------------------------------------------------\u001b[0m",
      "\u001b[0;31mUnicodeDecodeError\u001b[0m                        Traceback (most recent call last)",
      "\u001b[0;32m<ipython-input-2-475a8c687b09>\u001b[0m in \u001b[0;36m<module>\u001b[0;34m()\u001b[0m\n\u001b[0;32m----> 1\u001b[0;31m \u001b[0mdata\u001b[0m \u001b[0;34m=\u001b[0m \u001b[0mpd\u001b[0m\u001b[0;34m.\u001b[0m\u001b[0mread_csv\u001b[0m\u001b[0;34m(\u001b[0m\u001b[0;34m'04770123-eng.csv'\u001b[0m\u001b[0;34m)\u001b[0m\u001b[0;34m\u001b[0m\u001b[0m\n\u001b[0m",
      "\u001b[0;32m/opt/conda/lib/python3.6/site-packages/pandas/io/parsers.py\u001b[0m in \u001b[0;36mparser_f\u001b[0;34m(filepath_or_buffer, sep, delimiter, header, names, index_col, usecols, squeeze, prefix, mangle_dupe_cols, dtype, engine, converters, true_values, false_values, skipinitialspace, skiprows, nrows, na_values, keep_default_na, na_filter, verbose, skip_blank_lines, parse_dates, infer_datetime_format, keep_date_col, date_parser, dayfirst, iterator, chunksize, compression, thousands, decimal, lineterminator, quotechar, quoting, escapechar, comment, encoding, dialect, tupleize_cols, error_bad_lines, warn_bad_lines, skipfooter, skip_footer, doublequote, delim_whitespace, as_recarray, compact_ints, use_unsigned, low_memory, buffer_lines, memory_map, float_precision)\u001b[0m\n\u001b[1;32m    644\u001b[0m                     skip_blank_lines=skip_blank_lines)\n\u001b[1;32m    645\u001b[0m \u001b[0;34m\u001b[0m\u001b[0m\n\u001b[0;32m--> 646\u001b[0;31m         \u001b[0;32mreturn\u001b[0m \u001b[0m_read\u001b[0m\u001b[0;34m(\u001b[0m\u001b[0mfilepath_or_buffer\u001b[0m\u001b[0;34m,\u001b[0m \u001b[0mkwds\u001b[0m\u001b[0;34m)\u001b[0m\u001b[0;34m\u001b[0m\u001b[0m\n\u001b[0m\u001b[1;32m    647\u001b[0m \u001b[0;34m\u001b[0m\u001b[0m\n\u001b[1;32m    648\u001b[0m     \u001b[0mparser_f\u001b[0m\u001b[0;34m.\u001b[0m\u001b[0m__name__\u001b[0m \u001b[0;34m=\u001b[0m \u001b[0mname\u001b[0m\u001b[0;34m\u001b[0m\u001b[0m\n",
      "\u001b[0;32m/opt/conda/lib/python3.6/site-packages/pandas/io/parsers.py\u001b[0m in \u001b[0;36m_read\u001b[0;34m(filepath_or_buffer, kwds)\u001b[0m\n\u001b[1;32m    399\u001b[0m         \u001b[0;32mreturn\u001b[0m \u001b[0mparser\u001b[0m\u001b[0;34m\u001b[0m\u001b[0m\n\u001b[1;32m    400\u001b[0m \u001b[0;34m\u001b[0m\u001b[0m\n\u001b[0;32m--> 401\u001b[0;31m     \u001b[0mdata\u001b[0m \u001b[0;34m=\u001b[0m \u001b[0mparser\u001b[0m\u001b[0;34m.\u001b[0m\u001b[0mread\u001b[0m\u001b[0;34m(\u001b[0m\u001b[0;34m)\u001b[0m\u001b[0;34m\u001b[0m\u001b[0m\n\u001b[0m\u001b[1;32m    402\u001b[0m     \u001b[0mparser\u001b[0m\u001b[0;34m.\u001b[0m\u001b[0mclose\u001b[0m\u001b[0;34m(\u001b[0m\u001b[0;34m)\u001b[0m\u001b[0;34m\u001b[0m\u001b[0m\n\u001b[1;32m    403\u001b[0m     \u001b[0;32mreturn\u001b[0m \u001b[0mdata\u001b[0m\u001b[0;34m\u001b[0m\u001b[0m\n",
      "\u001b[0;32m/opt/conda/lib/python3.6/site-packages/pandas/io/parsers.py\u001b[0m in \u001b[0;36mread\u001b[0;34m(self, nrows)\u001b[0m\n\u001b[1;32m    937\u001b[0m                 \u001b[0;32mraise\u001b[0m \u001b[0mValueError\u001b[0m\u001b[0;34m(\u001b[0m\u001b[0;34m'skipfooter not supported for iteration'\u001b[0m\u001b[0;34m)\u001b[0m\u001b[0;34m\u001b[0m\u001b[0m\n\u001b[1;32m    938\u001b[0m \u001b[0;34m\u001b[0m\u001b[0m\n\u001b[0;32m--> 939\u001b[0;31m         \u001b[0mret\u001b[0m \u001b[0;34m=\u001b[0m \u001b[0mself\u001b[0m\u001b[0;34m.\u001b[0m\u001b[0m_engine\u001b[0m\u001b[0;34m.\u001b[0m\u001b[0mread\u001b[0m\u001b[0;34m(\u001b[0m\u001b[0mnrows\u001b[0m\u001b[0;34m)\u001b[0m\u001b[0;34m\u001b[0m\u001b[0m\n\u001b[0m\u001b[1;32m    940\u001b[0m \u001b[0;34m\u001b[0m\u001b[0m\n\u001b[1;32m    941\u001b[0m         \u001b[0;32mif\u001b[0m \u001b[0mself\u001b[0m\u001b[0;34m.\u001b[0m\u001b[0moptions\u001b[0m\u001b[0;34m.\u001b[0m\u001b[0mget\u001b[0m\u001b[0;34m(\u001b[0m\u001b[0;34m'as_recarray'\u001b[0m\u001b[0;34m)\u001b[0m\u001b[0;34m:\u001b[0m\u001b[0;34m\u001b[0m\u001b[0m\n",
      "\u001b[0;32m/opt/conda/lib/python3.6/site-packages/pandas/io/parsers.py\u001b[0m in \u001b[0;36mread\u001b[0;34m(self, nrows)\u001b[0m\n\u001b[1;32m   1506\u001b[0m     \u001b[0;32mdef\u001b[0m \u001b[0mread\u001b[0m\u001b[0;34m(\u001b[0m\u001b[0mself\u001b[0m\u001b[0;34m,\u001b[0m \u001b[0mnrows\u001b[0m\u001b[0;34m=\u001b[0m\u001b[0;32mNone\u001b[0m\u001b[0;34m)\u001b[0m\u001b[0;34m:\u001b[0m\u001b[0;34m\u001b[0m\u001b[0m\n\u001b[1;32m   1507\u001b[0m         \u001b[0;32mtry\u001b[0m\u001b[0;34m:\u001b[0m\u001b[0;34m\u001b[0m\u001b[0m\n\u001b[0;32m-> 1508\u001b[0;31m             \u001b[0mdata\u001b[0m \u001b[0;34m=\u001b[0m \u001b[0mself\u001b[0m\u001b[0;34m.\u001b[0m\u001b[0m_reader\u001b[0m\u001b[0;34m.\u001b[0m\u001b[0mread\u001b[0m\u001b[0;34m(\u001b[0m\u001b[0mnrows\u001b[0m\u001b[0;34m)\u001b[0m\u001b[0;34m\u001b[0m\u001b[0m\n\u001b[0m\u001b[1;32m   1509\u001b[0m         \u001b[0;32mexcept\u001b[0m \u001b[0mStopIteration\u001b[0m\u001b[0;34m:\u001b[0m\u001b[0;34m\u001b[0m\u001b[0m\n\u001b[1;32m   1510\u001b[0m             \u001b[0;32mif\u001b[0m \u001b[0mself\u001b[0m\u001b[0;34m.\u001b[0m\u001b[0m_first_chunk\u001b[0m\u001b[0;34m:\u001b[0m\u001b[0;34m\u001b[0m\u001b[0m\n",
      "\u001b[0;32mpandas/parser.pyx\u001b[0m in \u001b[0;36mpandas.parser.TextReader.read (pandas/parser.c:10415)\u001b[0;34m()\u001b[0m\n",
      "\u001b[0;32mpandas/parser.pyx\u001b[0m in \u001b[0;36mpandas.parser.TextReader._read_low_memory (pandas/parser.c:10691)\u001b[0;34m()\u001b[0m\n",
      "\u001b[0;32mpandas/parser.pyx\u001b[0m in \u001b[0;36mpandas.parser.TextReader._read_rows (pandas/parser.c:11728)\u001b[0;34m()\u001b[0m\n",
      "\u001b[0;32mpandas/parser.pyx\u001b[0m in \u001b[0;36mpandas.parser.TextReader._convert_column_data (pandas/parser.c:13162)\u001b[0;34m()\u001b[0m\n",
      "\u001b[0;32mpandas/parser.pyx\u001b[0m in \u001b[0;36mpandas.parser.TextReader._convert_tokens (pandas/parser.c:14116)\u001b[0;34m()\u001b[0m\n",
      "\u001b[0;32mpandas/parser.pyx\u001b[0m in \u001b[0;36mpandas.parser.TextReader._convert_with_dtype (pandas/parser.c:16172)\u001b[0;34m()\u001b[0m\n",
      "\u001b[0;32mpandas/parser.pyx\u001b[0m in \u001b[0;36mpandas.parser.TextReader._string_convert (pandas/parser.c:16400)\u001b[0;34m()\u001b[0m\n",
      "\u001b[0;32mpandas/parser.pyx\u001b[0m in \u001b[0;36mpandas.parser._string_box_utf8 (pandas/parser.c:22072)\u001b[0;34m()\u001b[0m\n",
      "\u001b[0;31mUnicodeDecodeError\u001b[0m: 'utf-8' codec can't decode byte 0xe9 in position 9: invalid continuation byte"
     ]
    }
   ],
   "source": [
    "data = pd.read_csv('04770123-eng.csv')"
   ]
  },
  {
   "cell_type": "markdown",
   "metadata": {},
   "source": [
    "There is an encoding error. This dataset comes from the Government of Canada and there are probably some French accent characters that pandas doesn't recognize. Let's try again and specify `encoding='latin'` to pandas that there are accent characters in the data."
   ]
  },
  {
   "cell_type": "code",
   "execution_count": 3,
   "metadata": {},
   "outputs": [],
   "source": [
    "data = pd.read_csv('04770123-eng.csv',encoding='latin')"
   ]
  },
  {
   "cell_type": "markdown",
   "metadata": {},
   "source": [
    "The data is imported as a pandas DataFrame. This is like a spreadsheet with column names and row index. To get a summary of the data, let's use the function `.info()`."
   ]
  },
  {
   "cell_type": "code",
   "execution_count": 4,
   "metadata": {},
   "outputs": [
    {
     "name": "stdout",
     "output_type": "stream",
     "text": [
      "<class 'pandas.core.frame.DataFrame'>\n",
      "RangeIndex: 5159 entries, 0 to 5158\n",
      "Data columns (total 8 columns):\n",
      "Ref_Date      5159 non-null object\n",
      "GEO           5159 non-null object\n",
      "INS           5159 non-null object\n",
      "RAN           5159 non-null object\n",
      "STA           5159 non-null object\n",
      "Vector        5159 non-null object\n",
      "Coordinate    5159 non-null object\n",
      "Value         5159 non-null object\n",
      "dtypes: object(8)\n",
      "memory usage: 322.5+ KB\n"
     ]
    }
   ],
   "source": [
    "data.info()"
   ]
  },
  {
   "cell_type": "markdown",
   "metadata": {},
   "source": [
    "We have 5159 rows of data and 8 columns. The word `object` means text. That's fine for most of the columns since `INS` is the name of the university but `value` should be a number. Let's use the function `.head()` to see the first 5 rows of the data."
   ]
  },
  {
   "cell_type": "code",
   "execution_count": 5,
   "metadata": {},
   "outputs": [
    {
     "data": {
      "text/html": [
       "<div>\n",
       "<table border=\"1\" class=\"dataframe\">\n",
       "  <thead>\n",
       "    <tr style=\"text-align: right;\">\n",
       "      <th></th>\n",
       "      <th>Ref_Date</th>\n",
       "      <th>GEO</th>\n",
       "      <th>INS</th>\n",
       "      <th>RAN</th>\n",
       "      <th>STA</th>\n",
       "      <th>Vector</th>\n",
       "      <th>Coordinate</th>\n",
       "      <th>Value</th>\n",
       "    </tr>\n",
       "  </thead>\n",
       "  <tbody>\n",
       "    <tr>\n",
       "      <th>0</th>\n",
       "      <td>2016/2017</td>\n",
       "      <td>Canada</td>\n",
       "      <td>Memorial University of Newfoundland - Includin...</td>\n",
       "      <td>Full professor</td>\n",
       "      <td>Total teaching staff</td>\n",
       "      <td>v113286602</td>\n",
       "      <td>1.1.2.1</td>\n",
       "      <td>294.0</td>\n",
       "    </tr>\n",
       "    <tr>\n",
       "      <th>1</th>\n",
       "      <td>2016/2017</td>\n",
       "      <td>Canada</td>\n",
       "      <td>Memorial University of Newfoundland - Includin...</td>\n",
       "      <td>Full professor</td>\n",
       "      <td>Teaching staff excluded</td>\n",
       "      <td>v113286603</td>\n",
       "      <td>1.1.2.2</td>\n",
       "      <td>12.0</td>\n",
       "    </tr>\n",
       "    <tr>\n",
       "      <th>2</th>\n",
       "      <td>2016/2017</td>\n",
       "      <td>Canada</td>\n",
       "      <td>Memorial University of Newfoundland - Includin...</td>\n",
       "      <td>Full professor</td>\n",
       "      <td>Average (dollars)</td>\n",
       "      <td>v113286604</td>\n",
       "      <td>1.1.2.3</td>\n",
       "      <td>153550.0</td>\n",
       "    </tr>\n",
       "    <tr>\n",
       "      <th>3</th>\n",
       "      <td>2016/2017</td>\n",
       "      <td>Canada</td>\n",
       "      <td>Memorial University of Newfoundland - Includin...</td>\n",
       "      <td>Full professor</td>\n",
       "      <td>Median (dollars)</td>\n",
       "      <td>v113286605</td>\n",
       "      <td>1.1.2.4</td>\n",
       "      <td>151325.0</td>\n",
       "    </tr>\n",
       "    <tr>\n",
       "      <th>4</th>\n",
       "      <td>2016/2017</td>\n",
       "      <td>Canada</td>\n",
       "      <td>Memorial University of Newfoundland - Includin...</td>\n",
       "      <td>Full professor</td>\n",
       "      <td>10th Percentile (dollars)</td>\n",
       "      <td>v113286606</td>\n",
       "      <td>1.1.2.5</td>\n",
       "      <td>129900.0</td>\n",
       "    </tr>\n",
       "  </tbody>\n",
       "</table>\n",
       "</div>"
      ],
      "text/plain": [
       "    Ref_Date     GEO                                                INS  \\\n",
       "0  2016/2017  Canada  Memorial University of Newfoundland - Includin...   \n",
       "1  2016/2017  Canada  Memorial University of Newfoundland - Includin...   \n",
       "2  2016/2017  Canada  Memorial University of Newfoundland - Includin...   \n",
       "3  2016/2017  Canada  Memorial University of Newfoundland - Includin...   \n",
       "4  2016/2017  Canada  Memorial University of Newfoundland - Includin...   \n",
       "\n",
       "              RAN                        STA      Vector Coordinate     Value  \n",
       "0  Full professor       Total teaching staff  v113286602    1.1.2.1     294.0  \n",
       "1  Full professor    Teaching staff excluded  v113286603    1.1.2.2      12.0  \n",
       "2  Full professor          Average (dollars)  v113286604    1.1.2.3  153550.0  \n",
       "3  Full professor           Median (dollars)  v113286605    1.1.2.4  151325.0  \n",
       "4  Full professor  10th Percentile (dollars)  v113286606    1.1.2.5  129900.0  "
      ]
     },
     "execution_count": 5,
     "metadata": {},
     "output_type": "execute_result"
    }
   ],
   "source": [
    "data.head()"
   ]
  },
  {
   "cell_type": "markdown",
   "metadata": {},
   "source": [
    "Why is the column `Value` imported as text and not a float? Let's take a look. We can can select a column using brackets and column name."
   ]
  },
  {
   "cell_type": "code",
   "execution_count": 6,
   "metadata": {},
   "outputs": [
    {
     "data": {
      "text/plain": [
       "0          294.0\n",
       "1           12.0\n",
       "2       153550.0\n",
       "3       151325.0\n",
       "4       129900.0\n",
       "5       174875.0\n",
       "6           42.0\n",
       "7           12.0\n",
       "8       159675.0\n",
       "9       156425.0\n",
       "10      132825.0\n",
       "11      188475.0\n",
       "12         252.0\n",
       "13      152525.0\n",
       "14      151325.0\n",
       "15      129900.0\n",
       "16      174875.0\n",
       "17         420.0\n",
       "18           6.0\n",
       "19      123500.0\n",
       "20      120125.0\n",
       "21      108475.0\n",
       "22      142750.0\n",
       "23          60.0\n",
       "24             x\n",
       "25      130300.0\n",
       "26      128750.0\n",
       "27      114625.0\n",
       "28      146775.0\n",
       "29         363.0\n",
       "          ...   \n",
       "5129     88300.0\n",
       "5130        54.0\n",
       "5131           x\n",
       "5132     82275.0\n",
       "5133     85525.0\n",
       "5134     68500.0\n",
       "5135     88300.0\n",
       "5136        12.0\n",
       "5137     77700.0\n",
       "5138     77700.0\n",
       "5139     77700.0\n",
       "5140     77700.0\n",
       "5141       255.0\n",
       "5142         6.0\n",
       "5143     88050.0\n",
       "5144     88300.0\n",
       "5145     77700.0\n",
       "5146     90325.0\n",
       "5147       117.0\n",
       "5148           x\n",
       "5149     87125.0\n",
       "5150     88300.0\n",
       "5151     81725.0\n",
       "5152     88300.0\n",
       "5153       138.0\n",
       "5154           x\n",
       "5155     88825.0\n",
       "5156     88300.0\n",
       "5157     77700.0\n",
       "5158     91425.0\n",
       "Name: Value, dtype: object"
      ]
     },
     "execution_count": 6,
     "metadata": {},
     "output_type": "execute_result"
    }
   ],
   "source": [
    "data['Value']"
   ]
  },
  {
   "cell_type": "markdown",
   "metadata": {},
   "source": [
    "Missing data in the `Value` column is represented by an `x`. We need to import the data and tell pandas that missing data is called `x`."
   ]
  },
  {
   "cell_type": "code",
   "execution_count": 7,
   "metadata": {},
   "outputs": [],
   "source": [
    "data = pd.read_csv('04770123-eng.csv',encoding='latin',na_values='x')"
   ]
  },
  {
   "cell_type": "code",
   "execution_count": 8,
   "metadata": {},
   "outputs": [
    {
     "name": "stdout",
     "output_type": "stream",
     "text": [
      "<class 'pandas.core.frame.DataFrame'>\n",
      "RangeIndex: 5159 entries, 0 to 5158\n",
      "Data columns (total 8 columns):\n",
      "Ref_Date      5159 non-null object\n",
      "GEO           5159 non-null object\n",
      "INS           5159 non-null object\n",
      "RAN           5159 non-null object\n",
      "STA           5159 non-null object\n",
      "Vector        5159 non-null object\n",
      "Coordinate    5159 non-null object\n",
      "Value         4624 non-null float64\n",
      "dtypes: float64(1), object(7)\n",
      "memory usage: 322.5+ KB\n"
     ]
    }
   ],
   "source": [
    "data.info()"
   ]
  },
  {
   "cell_type": "code",
   "execution_count": 9,
   "metadata": {},
   "outputs": [
    {
     "data": {
      "text/html": [
       "<div>\n",
       "<table border=\"1\" class=\"dataframe\">\n",
       "  <thead>\n",
       "    <tr style=\"text-align: right;\">\n",
       "      <th></th>\n",
       "      <th>Ref_Date</th>\n",
       "      <th>GEO</th>\n",
       "      <th>INS</th>\n",
       "      <th>RAN</th>\n",
       "      <th>STA</th>\n",
       "      <th>Vector</th>\n",
       "      <th>Coordinate</th>\n",
       "      <th>Value</th>\n",
       "    </tr>\n",
       "  </thead>\n",
       "  <tbody>\n",
       "    <tr>\n",
       "      <th>0</th>\n",
       "      <td>2016/2017</td>\n",
       "      <td>Canada</td>\n",
       "      <td>Memorial University of Newfoundland - Includin...</td>\n",
       "      <td>Full professor</td>\n",
       "      <td>Total teaching staff</td>\n",
       "      <td>v113286602</td>\n",
       "      <td>1.1.2.1</td>\n",
       "      <td>294.0</td>\n",
       "    </tr>\n",
       "    <tr>\n",
       "      <th>1</th>\n",
       "      <td>2016/2017</td>\n",
       "      <td>Canada</td>\n",
       "      <td>Memorial University of Newfoundland - Includin...</td>\n",
       "      <td>Full professor</td>\n",
       "      <td>Teaching staff excluded</td>\n",
       "      <td>v113286603</td>\n",
       "      <td>1.1.2.2</td>\n",
       "      <td>12.0</td>\n",
       "    </tr>\n",
       "    <tr>\n",
       "      <th>2</th>\n",
       "      <td>2016/2017</td>\n",
       "      <td>Canada</td>\n",
       "      <td>Memorial University of Newfoundland - Includin...</td>\n",
       "      <td>Full professor</td>\n",
       "      <td>Average (dollars)</td>\n",
       "      <td>v113286604</td>\n",
       "      <td>1.1.2.3</td>\n",
       "      <td>153550.0</td>\n",
       "    </tr>\n",
       "    <tr>\n",
       "      <th>3</th>\n",
       "      <td>2016/2017</td>\n",
       "      <td>Canada</td>\n",
       "      <td>Memorial University of Newfoundland - Includin...</td>\n",
       "      <td>Full professor</td>\n",
       "      <td>Median (dollars)</td>\n",
       "      <td>v113286605</td>\n",
       "      <td>1.1.2.4</td>\n",
       "      <td>151325.0</td>\n",
       "    </tr>\n",
       "    <tr>\n",
       "      <th>4</th>\n",
       "      <td>2016/2017</td>\n",
       "      <td>Canada</td>\n",
       "      <td>Memorial University of Newfoundland - Includin...</td>\n",
       "      <td>Full professor</td>\n",
       "      <td>10th Percentile (dollars)</td>\n",
       "      <td>v113286606</td>\n",
       "      <td>1.1.2.5</td>\n",
       "      <td>129900.0</td>\n",
       "    </tr>\n",
       "  </tbody>\n",
       "</table>\n",
       "</div>"
      ],
      "text/plain": [
       "    Ref_Date     GEO                                                INS  \\\n",
       "0  2016/2017  Canada  Memorial University of Newfoundland - Includin...   \n",
       "1  2016/2017  Canada  Memorial University of Newfoundland - Includin...   \n",
       "2  2016/2017  Canada  Memorial University of Newfoundland - Includin...   \n",
       "3  2016/2017  Canada  Memorial University of Newfoundland - Includin...   \n",
       "4  2016/2017  Canada  Memorial University of Newfoundland - Includin...   \n",
       "\n",
       "              RAN                        STA      Vector Coordinate     Value  \n",
       "0  Full professor       Total teaching staff  v113286602    1.1.2.1     294.0  \n",
       "1  Full professor    Teaching staff excluded  v113286603    1.1.2.2      12.0  \n",
       "2  Full professor          Average (dollars)  v113286604    1.1.2.3  153550.0  \n",
       "3  Full professor           Median (dollars)  v113286605    1.1.2.4  151325.0  \n",
       "4  Full professor  10th Percentile (dollars)  v113286606    1.1.2.5  129900.0  "
      ]
     },
     "execution_count": 9,
     "metadata": {},
     "output_type": "execute_result"
    }
   ],
   "source": [
    "data.head()"
   ]
  },
  {
   "cell_type": "markdown",
   "metadata": {},
   "source": [
    "Let's see the different entries in the columns `Ref_Date` and `GEO`."
   ]
  },
  {
   "cell_type": "code",
   "execution_count": 10,
   "metadata": {},
   "outputs": [
    {
     "data": {
      "text/plain": [
       "array(['2016/2017'], dtype=object)"
      ]
     },
     "execution_count": 10,
     "metadata": {},
     "output_type": "execute_result"
    }
   ],
   "source": [
    "data['Ref_Date'].unique()"
   ]
  },
  {
   "cell_type": "code",
   "execution_count": 11,
   "metadata": {},
   "outputs": [
    {
     "data": {
      "text/plain": [
       "array(['Canada'], dtype=object)"
      ]
     },
     "execution_count": 11,
     "metadata": {},
     "output_type": "execute_result"
    }
   ],
   "source": [
    "data['GEO'].unique()"
   ]
  },
  {
   "cell_type": "markdown",
   "metadata": {},
   "source": [
    "The columns `Ref_Date` and `GEO` have only one value so let's drop it."
   ]
  },
  {
   "cell_type": "code",
   "execution_count": 12,
   "metadata": {},
   "outputs": [],
   "source": [
    "data.drop(['Ref_Date','GEO'],axis=1,inplace=True)"
   ]
  },
  {
   "cell_type": "markdown",
   "metadata": {},
   "source": [
    "The columns `Vector` and `Coordinate` look like there's a different value for each row. Let's see."
   ]
  },
  {
   "cell_type": "code",
   "execution_count": 13,
   "metadata": {},
   "outputs": [
    {
     "data": {
      "text/plain": [
       "5159"
      ]
     },
     "execution_count": 13,
     "metadata": {},
     "output_type": "execute_result"
    }
   ],
   "source": [
    "data['Vector'].nunique()"
   ]
  },
  {
   "cell_type": "code",
   "execution_count": 14,
   "metadata": {},
   "outputs": [
    {
     "data": {
      "text/plain": [
       "5159"
      ]
     },
     "execution_count": 14,
     "metadata": {},
     "output_type": "execute_result"
    }
   ],
   "source": [
    "data['Coordinate'].nunique()"
   ]
  },
  {
   "cell_type": "markdown",
   "metadata": {},
   "source": [
    "Theses columns seem to be IDs. We can drop them too."
   ]
  },
  {
   "cell_type": "code",
   "execution_count": 15,
   "metadata": {},
   "outputs": [],
   "source": [
    "data.drop(['Coordinate','Vector'],axis=1,inplace=True)"
   ]
  },
  {
   "cell_type": "markdown",
   "metadata": {},
   "source": [
    "Let's take a look."
   ]
  },
  {
   "cell_type": "code",
   "execution_count": 16,
   "metadata": {},
   "outputs": [
    {
     "data": {
      "text/html": [
       "<div>\n",
       "<table border=\"1\" class=\"dataframe\">\n",
       "  <thead>\n",
       "    <tr style=\"text-align: right;\">\n",
       "      <th></th>\n",
       "      <th>INS</th>\n",
       "      <th>RAN</th>\n",
       "      <th>STA</th>\n",
       "      <th>Value</th>\n",
       "    </tr>\n",
       "  </thead>\n",
       "  <tbody>\n",
       "    <tr>\n",
       "      <th>0</th>\n",
       "      <td>Memorial University of Newfoundland - Includin...</td>\n",
       "      <td>Full professor</td>\n",
       "      <td>Total teaching staff</td>\n",
       "      <td>294.0</td>\n",
       "    </tr>\n",
       "    <tr>\n",
       "      <th>1</th>\n",
       "      <td>Memorial University of Newfoundland - Includin...</td>\n",
       "      <td>Full professor</td>\n",
       "      <td>Teaching staff excluded</td>\n",
       "      <td>12.0</td>\n",
       "    </tr>\n",
       "    <tr>\n",
       "      <th>2</th>\n",
       "      <td>Memorial University of Newfoundland - Includin...</td>\n",
       "      <td>Full professor</td>\n",
       "      <td>Average (dollars)</td>\n",
       "      <td>153550.0</td>\n",
       "    </tr>\n",
       "    <tr>\n",
       "      <th>3</th>\n",
       "      <td>Memorial University of Newfoundland - Includin...</td>\n",
       "      <td>Full professor</td>\n",
       "      <td>Median (dollars)</td>\n",
       "      <td>151325.0</td>\n",
       "    </tr>\n",
       "    <tr>\n",
       "      <th>4</th>\n",
       "      <td>Memorial University of Newfoundland - Includin...</td>\n",
       "      <td>Full professor</td>\n",
       "      <td>10th Percentile (dollars)</td>\n",
       "      <td>129900.0</td>\n",
       "    </tr>\n",
       "  </tbody>\n",
       "</table>\n",
       "</div>"
      ],
      "text/plain": [
       "                                                 INS             RAN  \\\n",
       "0  Memorial University of Newfoundland - Includin...  Full professor   \n",
       "1  Memorial University of Newfoundland - Includin...  Full professor   \n",
       "2  Memorial University of Newfoundland - Includin...  Full professor   \n",
       "3  Memorial University of Newfoundland - Includin...  Full professor   \n",
       "4  Memorial University of Newfoundland - Includin...  Full professor   \n",
       "\n",
       "                         STA     Value  \n",
       "0       Total teaching staff     294.0  \n",
       "1    Teaching staff excluded      12.0  \n",
       "2          Average (dollars)  153550.0  \n",
       "3           Median (dollars)  151325.0  \n",
       "4  10th Percentile (dollars)  129900.0  "
      ]
     },
     "execution_count": 16,
     "metadata": {},
     "output_type": "execute_result"
    }
   ],
   "source": [
    "data.head()"
   ]
  },
  {
   "cell_type": "markdown",
   "metadata": {},
   "source": [
    "How many different institutions are in the dataset?"
   ]
  },
  {
   "cell_type": "code",
   "execution_count": 17,
   "metadata": {},
   "outputs": [
    {
     "data": {
      "text/plain": [
       "82"
      ]
     },
     "execution_count": 17,
     "metadata": {},
     "output_type": "execute_result"
    }
   ],
   "source": [
    "data['INS'].nunique()"
   ]
  },
  {
   "cell_type": "code",
   "execution_count": 18,
   "metadata": {},
   "outputs": [
    {
     "data": {
      "text/plain": [
       "array(['Memorial University of Newfoundland - Including medical dental',\n",
       "       'Memorial University of Newfoundland - Excluding medical dental',\n",
       "       'University of Prince Edward Island', 'Acadia University',\n",
       "       'Cape Breton University',\n",
       "       'Dalhousie University - Including medical dental',\n",
       "       'Dalhousie University - Excluding medical dental',\n",
       "       'Mount Saint Vincent University', 'St. Francis Xavier University',\n",
       "       \"Saint Mary's University\", 'Mount Allison University',\n",
       "       'University of New Brunswick',\n",
       "       'Université de Moncton - Campus de Moncton',\n",
       "       'St. Thomas University',\n",
       "       'McGill University - Including medical dental',\n",
       "       'McGill University - Excluding medical dental',\n",
       "       'Université de Montréal - Including medical dental',\n",
       "       'Université de Montréal - Excluding medical dental',\n",
       "       'École Polytechnique de Montréal',\n",
       "       'École des hautes études commerciales',\n",
       "       'Université Laval - Including medical dental',\n",
       "       'Université Laval - Excluding medical dental',\n",
       "       'Université de Sherbrooke - Including medical dental',\n",
       "       'Université de Sherbrooke - Excluding medical dental',\n",
       "       'Concordia University', 'Université du Québec à Chicoutimi',\n",
       "       'Université du Québec à Montréal',\n",
       "       'Université du Québec en Abitibi-Témiscamingue',\n",
       "       'Université du Québec à Trois-Rivières',\n",
       "       'Université du Québec en Outaouais',\n",
       "       'Université du Québec, Institut national de la recherche scientifique',\n",
       "       'Université du Québec à Rimouski',\n",
       "       'Université du Québec, École de technologie supérieure',\n",
       "       'Brock University', 'Carleton University', 'University of Guelph',\n",
       "       'Lakehead University', 'Laurentian University',\n",
       "       'McMaster University - Including medical dental',\n",
       "       'McMaster University - Excluding medical dental',\n",
       "       'Nipissing University',\n",
       "       'University of Ottawa - Including medical dental',\n",
       "       'University of Ottawa - Excluding medical dental',\n",
       "       \"Queen's University - Including medical dental\",\n",
       "       \"Queen's University - Excluding medical dental\",\n",
       "       'Ryerson University',\n",
       "       'University of Toronto - Including medical dental',\n",
       "       'University of Toronto - Excluding medical dental',\n",
       "       'Trent University', 'University of Waterloo',\n",
       "       'University of Western Ontario - Including medical dental',\n",
       "       'University of Western Ontario - Excluding medical dental',\n",
       "       'Wilfrid Laurier University', 'University of Windsor',\n",
       "       'York University', 'Ontario College of Art and Design',\n",
       "       'University of Ontario Institute of Technology',\n",
       "       'Brandon University',\n",
       "       'University of Manitoba - Including medical dental',\n",
       "       'University of Manitoba - Excluding medical dental',\n",
       "       'University of Winnipeg', 'University of Regina',\n",
       "       'University of Saskatchewan - Including medical dental',\n",
       "       'University of Saskatchewan - Excluding medical dental',\n",
       "       'University of Alberta - Including medical dental',\n",
       "       'University of Alberta - Excluding medical dental',\n",
       "       'Athabasca University',\n",
       "       'University of Calgary - Including medical dental',\n",
       "       'University of Calgary - Excluding medical dental',\n",
       "       'University of Lethbridge', 'Grant MacEwan University',\n",
       "       'Mount Royal University',\n",
       "       'University of British Columbia - Including medical dental',\n",
       "       'University of British Columbia - Excluding medical dental',\n",
       "       'University of Northern British Columbia',\n",
       "       'Simon Fraser University', 'University of Victoria',\n",
       "       'Thompson Rivers University', 'Capilano University',\n",
       "       'Vancouver Island University', 'Kwantlen Polytechnic University',\n",
       "       'University of the Fraser Valley'], dtype=object)"
      ]
     },
     "execution_count": 18,
     "metadata": {},
     "output_type": "execute_result"
    }
   ],
   "source": [
    "data['INS'].unique()"
   ]
  },
  {
   "cell_type": "markdown",
   "metadata": {},
   "source": [
    "How many unique ranks and statistics are included?"
   ]
  },
  {
   "cell_type": "code",
   "execution_count": 19,
   "metadata": {},
   "outputs": [
    {
     "data": {
      "text/plain": [
       "array(['Full professor', 'With senior administrative duties',\n",
       "       'Without senior administrative duties', 'Associate professor',\n",
       "       'Assistant professor', 'Rank below assistant professor',\n",
       "       'All ranks combined (including deans)', 'Male', 'Female',\n",
       "       'Other teaching staff', 'Visiting Staff', 'Sex unknown/other'], dtype=object)"
      ]
     },
     "execution_count": 19,
     "metadata": {},
     "output_type": "execute_result"
    }
   ],
   "source": [
    "data['RAN'].unique()"
   ]
  },
  {
   "cell_type": "code",
   "execution_count": 20,
   "metadata": {},
   "outputs": [
    {
     "data": {
      "text/plain": [
       "array(['Total teaching staff', 'Teaching staff excluded',\n",
       "       'Average (dollars)', 'Median (dollars)',\n",
       "       '10th Percentile (dollars)', '90th Percentile (dollars)'], dtype=object)"
      ]
     },
     "execution_count": 20,
     "metadata": {},
     "output_type": "execute_result"
    }
   ],
   "source": [
    "data['STA'].unique()"
   ]
  },
  {
   "cell_type": "markdown",
   "metadata": {},
   "source": [
    "Let's ask a question: which universities pay men and women the same amount on average?\n",
    "\n",
    "Let's select the rows where `RAN` is `Male` or `Female`."
   ]
  },
  {
   "cell_type": "code",
   "execution_count": 21,
   "metadata": {},
   "outputs": [],
   "source": [
    "data_men_women = data[(data['RAN'] == 'Male') |  (data['RAN'] == 'Female')]"
   ]
  },
  {
   "cell_type": "markdown",
   "metadata": {},
   "source": [
    "Let's select the rows where the statistic is `Median (dollars)`."
   ]
  },
  {
   "cell_type": "code",
   "execution_count": 22,
   "metadata": {},
   "outputs": [],
   "source": [
    "data_men_women_median = data_men_women[data_men_women['STA'] == 'Median (dollars)']"
   ]
  },
  {
   "cell_type": "markdown",
   "metadata": {},
   "source": [
    "Now we can use [pandas.groupby](https://pandas.pydata.org/pandas-docs/stable/groupby.html) to see the median income at each university:"
   ]
  },
  {
   "cell_type": "code",
   "execution_count": 23,
   "metadata": {},
   "outputs": [],
   "source": [
    "data_men_women_median_mean = data_men_women_median.groupby(['INS','RAN'])['Value'].mean().unstack().sort_values(by='Male')"
   ]
  },
  {
   "cell_type": "code",
   "execution_count": 24,
   "metadata": {},
   "outputs": [
    {
     "data": {
      "text/html": [
       "<div>\n",
       "<table border=\"1\" class=\"dataframe\">\n",
       "  <thead>\n",
       "    <tr style=\"text-align: right;\">\n",
       "      <th>RAN</th>\n",
       "      <th>Female</th>\n",
       "      <th>Male</th>\n",
       "    </tr>\n",
       "    <tr>\n",
       "      <th>INS</th>\n",
       "      <th></th>\n",
       "      <th></th>\n",
       "    </tr>\n",
       "  </thead>\n",
       "  <tbody>\n",
       "    <tr>\n",
       "      <th>Vancouver Island University</th>\n",
       "      <td>88300.0</td>\n",
       "      <td>88300.0</td>\n",
       "    </tr>\n",
       "    <tr>\n",
       "      <th>University of the Fraser Valley</th>\n",
       "      <td>88300.0</td>\n",
       "      <td>88300.0</td>\n",
       "    </tr>\n",
       "    <tr>\n",
       "      <th>Capilano University</th>\n",
       "      <td>89675.0</td>\n",
       "      <td>89675.0</td>\n",
       "    </tr>\n",
       "    <tr>\n",
       "      <th>Kwantlen Polytechnic University</th>\n",
       "      <td>90075.0</td>\n",
       "      <td>90075.0</td>\n",
       "    </tr>\n",
       "    <tr>\n",
       "      <th>Thompson Rivers University</th>\n",
       "      <td>89675.0</td>\n",
       "      <td>98350.0</td>\n",
       "    </tr>\n",
       "    <tr>\n",
       "      <th>University of Northern British Columbia</th>\n",
       "      <td>91225.0</td>\n",
       "      <td>102625.0</td>\n",
       "    </tr>\n",
       "    <tr>\n",
       "      <th>Cape Breton University</th>\n",
       "      <td>95300.0</td>\n",
       "      <td>103950.0</td>\n",
       "    </tr>\n",
       "    <tr>\n",
       "      <th>Ontario College of Art and Design</th>\n",
       "      <td>93850.0</td>\n",
       "      <td>104825.0</td>\n",
       "    </tr>\n",
       "    <tr>\n",
       "      <th>University of Winnipeg</th>\n",
       "      <td>100875.0</td>\n",
       "      <td>105900.0</td>\n",
       "    </tr>\n",
       "    <tr>\n",
       "      <th>Université du Québec en Outaouais</th>\n",
       "      <td>99750.0</td>\n",
       "      <td>109150.0</td>\n",
       "    </tr>\n",
       "    <tr>\n",
       "      <th>Concordia University</th>\n",
       "      <td>104050.0</td>\n",
       "      <td>110875.0</td>\n",
       "    </tr>\n",
       "    <tr>\n",
       "      <th>Acadia University</th>\n",
       "      <td>106400.0</td>\n",
       "      <td>112725.0</td>\n",
       "    </tr>\n",
       "    <tr>\n",
       "      <th>Grant MacEwan University</th>\n",
       "      <td>103200.0</td>\n",
       "      <td>113500.0</td>\n",
       "    </tr>\n",
       "    <tr>\n",
       "      <th>Université du Québec en Abitibi-Témiscamingue</th>\n",
       "      <td>106825.0</td>\n",
       "      <td>115500.0</td>\n",
       "    </tr>\n",
       "    <tr>\n",
       "      <th>Nipissing University</th>\n",
       "      <td>112950.0</td>\n",
       "      <td>115625.0</td>\n",
       "    </tr>\n",
       "    <tr>\n",
       "      <th>Athabasca University</th>\n",
       "      <td>114000.0</td>\n",
       "      <td>116000.0</td>\n",
       "    </tr>\n",
       "    <tr>\n",
       "      <th>Mount Saint Vincent University</th>\n",
       "      <td>116025.0</td>\n",
       "      <td>116025.0</td>\n",
       "    </tr>\n",
       "    <tr>\n",
       "      <th>St. Francis Xavier University</th>\n",
       "      <td>97775.0</td>\n",
       "      <td>116600.0</td>\n",
       "    </tr>\n",
       "    <tr>\n",
       "      <th>Université de Moncton - Campus de Moncton</th>\n",
       "      <td>107175.0</td>\n",
       "      <td>117850.0</td>\n",
       "    </tr>\n",
       "    <tr>\n",
       "      <th>University of Lethbridge</th>\n",
       "      <td>109300.0</td>\n",
       "      <td>118025.0</td>\n",
       "    </tr>\n",
       "    <tr>\n",
       "      <th>Université du Québec à Rimouski</th>\n",
       "      <td>106400.0</td>\n",
       "      <td>118700.0</td>\n",
       "    </tr>\n",
       "    <tr>\n",
       "      <th>Université du Québec à Montréal</th>\n",
       "      <td>112350.0</td>\n",
       "      <td>119325.0</td>\n",
       "    </tr>\n",
       "    <tr>\n",
       "      <th>Université de Sherbrooke - Including medical dental</th>\n",
       "      <td>107325.0</td>\n",
       "      <td>119925.0</td>\n",
       "    </tr>\n",
       "    <tr>\n",
       "      <th>Université du Québec, Institut national de la recherche scientifique</th>\n",
       "      <td>115700.0</td>\n",
       "      <td>120075.0</td>\n",
       "    </tr>\n",
       "    <tr>\n",
       "      <th>Université du Québec à Chicoutimi</th>\n",
       "      <td>111425.0</td>\n",
       "      <td>120875.0</td>\n",
       "    </tr>\n",
       "    <tr>\n",
       "      <th>Saint Mary's University</th>\n",
       "      <td>119750.0</td>\n",
       "      <td>120950.0</td>\n",
       "    </tr>\n",
       "    <tr>\n",
       "      <th>Brandon University</th>\n",
       "      <td>98200.0</td>\n",
       "      <td>121600.0</td>\n",
       "    </tr>\n",
       "    <tr>\n",
       "      <th>Mount Royal University</th>\n",
       "      <td>114125.0</td>\n",
       "      <td>121775.0</td>\n",
       "    </tr>\n",
       "    <tr>\n",
       "      <th>Université du Québec à Trois-Rivières</th>\n",
       "      <td>106425.0</td>\n",
       "      <td>122925.0</td>\n",
       "    </tr>\n",
       "    <tr>\n",
       "      <th>St. Thomas University</th>\n",
       "      <td>115300.0</td>\n",
       "      <td>124400.0</td>\n",
       "    </tr>\n",
       "    <tr>\n",
       "      <th>...</th>\n",
       "      <td>...</td>\n",
       "      <td>...</td>\n",
       "    </tr>\n",
       "    <tr>\n",
       "      <th>University of New Brunswick</th>\n",
       "      <td>121775.0</td>\n",
       "      <td>138900.0</td>\n",
       "    </tr>\n",
       "    <tr>\n",
       "      <th>University of Calgary - Including medical dental</th>\n",
       "      <td>119325.0</td>\n",
       "      <td>139475.0</td>\n",
       "    </tr>\n",
       "    <tr>\n",
       "      <th>Wilfrid Laurier University</th>\n",
       "      <td>130125.0</td>\n",
       "      <td>139525.0</td>\n",
       "    </tr>\n",
       "    <tr>\n",
       "      <th>Université de Montréal - Including medical dental</th>\n",
       "      <td>123900.0</td>\n",
       "      <td>139850.0</td>\n",
       "    </tr>\n",
       "    <tr>\n",
       "      <th>Carleton University</th>\n",
       "      <td>122550.0</td>\n",
       "      <td>141000.0</td>\n",
       "    </tr>\n",
       "    <tr>\n",
       "      <th>University of British Columbia - Excluding medical dental</th>\n",
       "      <td>122150.0</td>\n",
       "      <td>142250.0</td>\n",
       "    </tr>\n",
       "    <tr>\n",
       "      <th>University of Western Ontario - Including medical dental</th>\n",
       "      <td>128700.0</td>\n",
       "      <td>144525.0</td>\n",
       "    </tr>\n",
       "    <tr>\n",
       "      <th>University of British Columbia - Including medical dental</th>\n",
       "      <td>126625.0</td>\n",
       "      <td>144550.0</td>\n",
       "    </tr>\n",
       "    <tr>\n",
       "      <th>University of Western Ontario - Excluding medical dental</th>\n",
       "      <td>128150.0</td>\n",
       "      <td>145100.0</td>\n",
       "    </tr>\n",
       "    <tr>\n",
       "      <th>Trent University</th>\n",
       "      <td>138550.0</td>\n",
       "      <td>145850.0</td>\n",
       "    </tr>\n",
       "    <tr>\n",
       "      <th>University of Windsor</th>\n",
       "      <td>138950.0</td>\n",
       "      <td>146325.0</td>\n",
       "    </tr>\n",
       "    <tr>\n",
       "      <th>Brock University</th>\n",
       "      <td>137300.0</td>\n",
       "      <td>146400.0</td>\n",
       "    </tr>\n",
       "    <tr>\n",
       "      <th>Laurentian University</th>\n",
       "      <td>132600.0</td>\n",
       "      <td>148050.0</td>\n",
       "    </tr>\n",
       "    <tr>\n",
       "      <th>École Polytechnique de Montréal</th>\n",
       "      <td>144125.0</td>\n",
       "      <td>150700.0</td>\n",
       "    </tr>\n",
       "    <tr>\n",
       "      <th>University of Ottawa - Excluding medical dental</th>\n",
       "      <td>141075.0</td>\n",
       "      <td>150950.0</td>\n",
       "    </tr>\n",
       "    <tr>\n",
       "      <th>University of Ottawa - Including medical dental</th>\n",
       "      <td>140550.0</td>\n",
       "      <td>150950.0</td>\n",
       "    </tr>\n",
       "    <tr>\n",
       "      <th>Ryerson University</th>\n",
       "      <td>134725.0</td>\n",
       "      <td>151175.0</td>\n",
       "    </tr>\n",
       "    <tr>\n",
       "      <th>University of Guelph</th>\n",
       "      <td>139550.0</td>\n",
       "      <td>151875.0</td>\n",
       "    </tr>\n",
       "    <tr>\n",
       "      <th>University of Alberta - Excluding medical dental</th>\n",
       "      <td>134975.0</td>\n",
       "      <td>152850.0</td>\n",
       "    </tr>\n",
       "    <tr>\n",
       "      <th>University of Saskatchewan - Excluding medical dental</th>\n",
       "      <td>144950.0</td>\n",
       "      <td>154650.0</td>\n",
       "    </tr>\n",
       "    <tr>\n",
       "      <th>York University</th>\n",
       "      <td>145250.0</td>\n",
       "      <td>156400.0</td>\n",
       "    </tr>\n",
       "    <tr>\n",
       "      <th>University of Waterloo</th>\n",
       "      <td>135800.0</td>\n",
       "      <td>156625.0</td>\n",
       "    </tr>\n",
       "    <tr>\n",
       "      <th>University of Saskatchewan - Including medical dental</th>\n",
       "      <td>147025.0</td>\n",
       "      <td>156725.0</td>\n",
       "    </tr>\n",
       "    <tr>\n",
       "      <th>University of Alberta - Including medical dental</th>\n",
       "      <td>134975.0</td>\n",
       "      <td>157675.0</td>\n",
       "    </tr>\n",
       "    <tr>\n",
       "      <th>Queen's University - Excluding medical dental</th>\n",
       "      <td>147775.0</td>\n",
       "      <td>159350.0</td>\n",
       "    </tr>\n",
       "    <tr>\n",
       "      <th>Queen's University - Including medical dental</th>\n",
       "      <td>147925.0</td>\n",
       "      <td>159375.0</td>\n",
       "    </tr>\n",
       "    <tr>\n",
       "      <th>University of Toronto - Excluding medical dental</th>\n",
       "      <td>143850.0</td>\n",
       "      <td>167425.0</td>\n",
       "    </tr>\n",
       "    <tr>\n",
       "      <th>University of Toronto - Including medical dental</th>\n",
       "      <td>145150.0</td>\n",
       "      <td>168425.0</td>\n",
       "    </tr>\n",
       "    <tr>\n",
       "      <th>McMaster University - Including medical dental</th>\n",
       "      <td>147975.0</td>\n",
       "      <td>168975.0</td>\n",
       "    </tr>\n",
       "    <tr>\n",
       "      <th>McMaster University - Excluding medical dental</th>\n",
       "      <td>143325.0</td>\n",
       "      <td>170250.0</td>\n",
       "    </tr>\n",
       "  </tbody>\n",
       "</table>\n",
       "<p>82 rows × 2 columns</p>\n",
       "</div>"
      ],
      "text/plain": [
       "RAN                                                   Female      Male\n",
       "INS                                                                   \n",
       "Vancouver Island University                          88300.0   88300.0\n",
       "University of the Fraser Valley                      88300.0   88300.0\n",
       "Capilano University                                  89675.0   89675.0\n",
       "Kwantlen Polytechnic University                      90075.0   90075.0\n",
       "Thompson Rivers University                           89675.0   98350.0\n",
       "University of Northern British Columbia              91225.0  102625.0\n",
       "Cape Breton University                               95300.0  103950.0\n",
       "Ontario College of Art and Design                    93850.0  104825.0\n",
       "University of Winnipeg                              100875.0  105900.0\n",
       "Université du Québec en Outaouais                    99750.0  109150.0\n",
       "Concordia University                                104050.0  110875.0\n",
       "Acadia University                                   106400.0  112725.0\n",
       "Grant MacEwan University                            103200.0  113500.0\n",
       "Université du Québec en Abitibi-Témiscamingue       106825.0  115500.0\n",
       "Nipissing University                                112950.0  115625.0\n",
       "Athabasca University                                114000.0  116000.0\n",
       "Mount Saint Vincent University                      116025.0  116025.0\n",
       "St. Francis Xavier University                        97775.0  116600.0\n",
       "Université de Moncton - Campus de Moncton           107175.0  117850.0\n",
       "University of Lethbridge                            109300.0  118025.0\n",
       "Université du Québec à Rimouski                     106400.0  118700.0\n",
       "Université du Québec à Montréal                     112350.0  119325.0\n",
       "Université de Sherbrooke - Including medical de...  107325.0  119925.0\n",
       "Université du Québec, Institut national de la r...  115700.0  120075.0\n",
       "Université du Québec à Chicoutimi                   111425.0  120875.0\n",
       "Saint Mary's University                             119750.0  120950.0\n",
       "Brandon University                                   98200.0  121600.0\n",
       "Mount Royal University                              114125.0  121775.0\n",
       "Université du Québec à Trois-Rivières               106425.0  122925.0\n",
       "St. Thomas University                               115300.0  124400.0\n",
       "...                                                      ...       ...\n",
       "University of New Brunswick                         121775.0  138900.0\n",
       "University of Calgary - Including medical dental    119325.0  139475.0\n",
       "Wilfrid Laurier University                          130125.0  139525.0\n",
       "Université de Montréal - Including medical dental   123900.0  139850.0\n",
       "Carleton University                                 122550.0  141000.0\n",
       "University of British Columbia - Excluding medi...  122150.0  142250.0\n",
       "University of Western Ontario - Including medic...  128700.0  144525.0\n",
       "University of British Columbia - Including medi...  126625.0  144550.0\n",
       "University of Western Ontario - Excluding medic...  128150.0  145100.0\n",
       "Trent University                                    138550.0  145850.0\n",
       "University of Windsor                               138950.0  146325.0\n",
       "Brock University                                    137300.0  146400.0\n",
       "Laurentian University                               132600.0  148050.0\n",
       "École Polytechnique de Montréal                     144125.0  150700.0\n",
       "University of Ottawa - Excluding medical dental     141075.0  150950.0\n",
       "University of Ottawa - Including medical dental     140550.0  150950.0\n",
       "Ryerson University                                  134725.0  151175.0\n",
       "University of Guelph                                139550.0  151875.0\n",
       "University of Alberta - Excluding medical dental    134975.0  152850.0\n",
       "University of Saskatchewan - Excluding medical ...  144950.0  154650.0\n",
       "York University                                     145250.0  156400.0\n",
       "University of Waterloo                              135800.0  156625.0\n",
       "University of Saskatchewan - Including medical ...  147025.0  156725.0\n",
       "University of Alberta - Including medical dental    134975.0  157675.0\n",
       "Queen's University - Excluding medical dental       147775.0  159350.0\n",
       "Queen's University - Including medical dental       147925.0  159375.0\n",
       "University of Toronto - Excluding medical dental    143850.0  167425.0\n",
       "University of Toronto - Including medical dental    145150.0  168425.0\n",
       "McMaster University - Including medical dental      147975.0  168975.0\n",
       "McMaster University - Excluding medical dental      143325.0  170250.0\n",
       "\n",
       "[82 rows x 2 columns]"
      ]
     },
     "execution_count": 24,
     "metadata": {},
     "output_type": "execute_result"
    }
   ],
   "source": [
    "data_men_women_median_mean"
   ]
  },
  {
   "cell_type": "markdown",
   "metadata": {},
   "source": [
    "But now let's see it as a horizontal bar graph:"
   ]
  },
  {
   "cell_type": "code",
   "execution_count": 25,
   "metadata": {},
   "outputs": [
    {
     "data": {
      "image/png": "[encoded data removed]",
      "text/plain": [
       "<Figure size 720x1800 with 1 Axes>"
      ]
     },
     "metadata": {},
     "output_type": "display_data"
    }
   ],
   "source": [
    "data_men_women_median_mean.plot(kind='barh',figsize=(10,25));"
   ]
  }
 ],
 "metadata": {
  "kernelspec": {
   "display_name": "Python 3",
   "language": "python",
   "name": "python3"
  },
  "language_info": {
   "codemirror_mode": {
    "name": "ipython",
    "version": 3
   },
   "file_extension": ".py",
   "mimetype": "text/x-python",
   "name": "python",
   "nbconvert_exporter": "python",
   "pygments_lexer": "ipython3",
   "version": "3.6.4"
  }
 },
 "nbformat": 4,
 "nbformat_minor": 2
}
