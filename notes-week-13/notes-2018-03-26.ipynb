{
 "cells": [
  {
   "cell_type": "markdown",
   "metadata": {},
   "source": [
    "# MATH 210 Introduction to Mathematical Computing\n",
    "\n",
    "## March 26, 2018"
   ]
  },
  {
   "cell_type": "markdown",
   "metadata": {},
   "source": [
    "1. Example: Van der pol oscillator\n",
    "2. Intro to pandas"
   ]
  },
  {
   "cell_type": "code",
   "execution_count": 1,
   "metadata": {},
   "outputs": [],
   "source": [
    "import numpy as np\n",
    "import matplotlib.pyplot as plt\n",
    "import scipy.integrate as spi\n",
    "%matplotlib inline"
   ]
  },
  {
   "cell_type": "markdown",
   "metadata": {},
   "source": [
    "### 1. Example : Van der pol oscillator"
   ]
  },
  {
   "cell_type": "markdown",
   "metadata": {},
   "source": [
    "The [Van der Pol oscillator](https://en.wikipedia.org/wiki/Van_der_Pol_oscillator) is the second order nonlinear differential equation\n",
    "\n",
    "$$\n",
    "y'' - \\mu (1 - y^2) y' + y = 0\n",
    "$$"
   ]
  },
  {
   "cell_type": "markdown",
   "metadata": {},
   "source": [
    "Let's write a function called `van_der_pol` which takes input parameters `mu`, `y0`, `t_0`, `t_f` and `h`. The function `van_der_pol` computes an approximation of a solution of the Van der pol equation using `scipy.integrate.odeint` on the interval $[t_0,t_f]$ with initial conditions $y(t_0),y'(t_0)$ given by the list `y0` of length 2. The `t` interval starts at `t0` and ends at `tf` and increments by step size `h` with `tf` as the final value. The function plots the solution $y(t)$ over the interval $[t_0,t_f]$ and returns a 2D NumPy array with $t$ values in the column at index 0 and $y$ values in column at index 1."
   ]
  },
  {
   "cell_type": "code",
   "execution_count": 2,
   "metadata": {},
   "outputs": [],
   "source": [
    "def van_der_pol(mu,y0,t0,tf,h):\n",
    "    '''Solve and plot solution of the van der pol equation: y'' - \\mu (1 - y^2) y' + y = 0\n",
    "    \n",
    "    Parameters\n",
    "    ----------\n",
    "    mu : parameter in the Van der Pol equation\n",
    "    y0 : initial conditions [y(t_0),y'(t_0)]\n",
    "    t_0 : start of the interval of integration [t_0,t_f]\n",
    "    t_f : end of the interval of integration [t_0,t_f]\n",
    "    h : time step between t values\n",
    "    \n",
    "    Returns\n",
    "    -------\n",
    "    Plot the corresponding solution given by scipy.integrate.odeint\n",
    "    and returns a 2D NumPy array with t values in the column\n",
    "    at index 0 and y values in column at index 1.\n",
    "    '''\n",
    "    def f(u,t):\n",
    "        dudt = np.zeros(2)\n",
    "        dudt[0] = u[1]\n",
    "        dudt[1] = mu*(1 - u[0]**2)*u[1] - u[0]\n",
    "        return dudt\n",
    "    \n",
    "    t = np.arange(t0,tf,h)\n",
    "    t = np.append(t,tf)\n",
    "    U = spi.odeint(f,y0,t)\n",
    "    result = np.column_stack([t,U[:,0]])\n",
    "    return result"
   ]
  },
  {
   "cell_type": "code",
   "execution_count": 3,
   "metadata": {},
   "outputs": [],
   "source": [
    "solution = van_der_pol(10,[0,1],0,100,0.1)"
   ]
  },
  {
   "cell_type": "code",
   "execution_count": 4,
   "metadata": {},
   "outputs": [
    {
     "data": {
      "image/png": "[encoded data removed]",
      "text/plain": [
       "<Figure size 432x288 with 1 Axes>"
      ]
     },
     "metadata": {},
     "output_type": "display_data"
    }
   ],
   "source": [
    "plt.plot(solution[:,0],solution[:,1]);"
   ]
  },
  {
   "cell_type": "markdown",
   "metadata": {},
   "source": [
    "## 2. Intro to pandas"
   ]
  },
  {
   "cell_type": "markdown",
   "metadata": {},
   "source": [
    "[pandas](http://pandas.pydata.org/) is the main Python package for data analysis. The core object in pandas is the [DataFrame](https://pandas.pydata.org/pandas-docs/stable/generated/pandas.DataFrame.html) which is like a spreadsheet with column headers, row index and values."
   ]
  },
  {
   "cell_type": "markdown",
   "metadata": {},
   "source": [
    "Let's find some data and try to import it as a pandas DataFrame using `pandas.read_csv`."
   ]
  },
  {
   "cell_type": "code",
   "execution_count": 5,
   "metadata": {},
   "outputs": [],
   "source": [
    "import pandas as pd"
   ]
  },
  {
   "cell_type": "markdown",
   "metadata": {},
   "source": [
    "Let's go to the Government of Canada's [Open Data Portal](https://open.canada.ca/data/en/dataset?portal_type=dataset) and search \"University\". The first result is [Universities and colleges revenue and expenditures](https://open.canada.ca/data/en/dataset/66def988-48ca-4cc5-8e0b-19d9b73f6266). Download the data and save the data to the same directory as this notebook. If you are using [ubc.syzygy.ca](https://ubc.syzygy.ca/) then you must upload the file from your computer to [ubc.syzygy.ca](https://ubc.syzygy.ca/). The file is names `govt31a-eng.csv`. Let's take a look!"
   ]
  },
  {
   "cell_type": "code",
   "execution_count": 6,
   "metadata": {},
   "outputs": [
    {
     "ename": "CParserError",
     "evalue": "Error tokenizing data. C error: Expected 6 fields in line 4, saw 7\n",
     "output_type": "error",
     "traceback": [
      "\u001b[0;31m---------------------------------------------------------------------------\u001b[0m",
      "\u001b[0;31mCParserError\u001b[0m                              Traceback (most recent call last)",
      "\u001b[0;32m<ipython-input-6-27d7cbc6ec2b>\u001b[0m in \u001b[0;36m<module>\u001b[0;34m()\u001b[0m\n\u001b[0;32m----> 1\u001b[0;31m \u001b[0mdata\u001b[0m \u001b[0;34m=\u001b[0m \u001b[0mpd\u001b[0m\u001b[0;34m.\u001b[0m\u001b[0mread_csv\u001b[0m\u001b[0;34m(\u001b[0m\u001b[0;34m'govt31a-eng.csv'\u001b[0m\u001b[0;34m)\u001b[0m\u001b[0;34m\u001b[0m\u001b[0m\n\u001b[0m",
      "\u001b[0;32m/opt/conda/lib/python3.6/site-packages/pandas/io/parsers.py\u001b[0m in \u001b[0;36mparser_f\u001b[0;34m(filepath_or_buffer, sep, delimiter, header, names, index_col, usecols, squeeze, prefix, mangle_dupe_cols, dtype, engine, converters, true_values, false_values, skipinitialspace, skiprows, nrows, na_values, keep_default_na, na_filter, verbose, skip_blank_lines, parse_dates, infer_datetime_format, keep_date_col, date_parser, dayfirst, iterator, chunksize, compression, thousands, decimal, lineterminator, quotechar, quoting, escapechar, comment, encoding, dialect, tupleize_cols, error_bad_lines, warn_bad_lines, skipfooter, skip_footer, doublequote, delim_whitespace, as_recarray, compact_ints, use_unsigned, low_memory, buffer_lines, memory_map, float_precision)\u001b[0m\n\u001b[1;32m    644\u001b[0m                     skip_blank_lines=skip_blank_lines)\n\u001b[1;32m    645\u001b[0m \u001b[0;34m\u001b[0m\u001b[0m\n\u001b[0;32m--> 646\u001b[0;31m         \u001b[0;32mreturn\u001b[0m \u001b[0m_read\u001b[0m\u001b[0;34m(\u001b[0m\u001b[0mfilepath_or_buffer\u001b[0m\u001b[0;34m,\u001b[0m \u001b[0mkwds\u001b[0m\u001b[0;34m)\u001b[0m\u001b[0;34m\u001b[0m\u001b[0m\n\u001b[0m\u001b[1;32m    647\u001b[0m \u001b[0;34m\u001b[0m\u001b[0m\n\u001b[1;32m    648\u001b[0m     \u001b[0mparser_f\u001b[0m\u001b[0;34m.\u001b[0m\u001b[0m__name__\u001b[0m \u001b[0;34m=\u001b[0m \u001b[0mname\u001b[0m\u001b[0;34m\u001b[0m\u001b[0m\n",
      "\u001b[0;32m/opt/conda/lib/python3.6/site-packages/pandas/io/parsers.py\u001b[0m in \u001b[0;36m_read\u001b[0;34m(filepath_or_buffer, kwds)\u001b[0m\n\u001b[1;32m    399\u001b[0m         \u001b[0;32mreturn\u001b[0m \u001b[0mparser\u001b[0m\u001b[0;34m\u001b[0m\u001b[0m\n\u001b[1;32m    400\u001b[0m \u001b[0;34m\u001b[0m\u001b[0m\n\u001b[0;32m--> 401\u001b[0;31m     \u001b[0mdata\u001b[0m \u001b[0;34m=\u001b[0m \u001b[0mparser\u001b[0m\u001b[0;34m.\u001b[0m\u001b[0mread\u001b[0m\u001b[0;34m(\u001b[0m\u001b[0;34m)\u001b[0m\u001b[0;34m\u001b[0m\u001b[0m\n\u001b[0m\u001b[1;32m    402\u001b[0m     \u001b[0mparser\u001b[0m\u001b[0;34m.\u001b[0m\u001b[0mclose\u001b[0m\u001b[0;34m(\u001b[0m\u001b[0;34m)\u001b[0m\u001b[0;34m\u001b[0m\u001b[0m\n\u001b[1;32m    403\u001b[0m     \u001b[0;32mreturn\u001b[0m \u001b[0mdata\u001b[0m\u001b[0;34m\u001b[0m\u001b[0m\n",
      "\u001b[0;32m/opt/conda/lib/python3.6/site-packages/pandas/io/parsers.py\u001b[0m in \u001b[0;36mread\u001b[0;34m(self, nrows)\u001b[0m\n\u001b[1;32m    937\u001b[0m                 \u001b[0;32mraise\u001b[0m \u001b[0mValueError\u001b[0m\u001b[0;34m(\u001b[0m\u001b[0;34m'skipfooter not supported for iteration'\u001b[0m\u001b[0;34m)\u001b[0m\u001b[0;34m\u001b[0m\u001b[0m\n\u001b[1;32m    938\u001b[0m \u001b[0;34m\u001b[0m\u001b[0m\n\u001b[0;32m--> 939\u001b[0;31m         \u001b[0mret\u001b[0m \u001b[0;34m=\u001b[0m \u001b[0mself\u001b[0m\u001b[0;34m.\u001b[0m\u001b[0m_engine\u001b[0m\u001b[0;34m.\u001b[0m\u001b[0mread\u001b[0m\u001b[0;34m(\u001b[0m\u001b[0mnrows\u001b[0m\u001b[0;34m)\u001b[0m\u001b[0;34m\u001b[0m\u001b[0m\n\u001b[0m\u001b[1;32m    940\u001b[0m \u001b[0;34m\u001b[0m\u001b[0m\n\u001b[1;32m    941\u001b[0m         \u001b[0;32mif\u001b[0m \u001b[0mself\u001b[0m\u001b[0;34m.\u001b[0m\u001b[0moptions\u001b[0m\u001b[0;34m.\u001b[0m\u001b[0mget\u001b[0m\u001b[0;34m(\u001b[0m\u001b[0;34m'as_recarray'\u001b[0m\u001b[0;34m)\u001b[0m\u001b[0;34m:\u001b[0m\u001b[0;34m\u001b[0m\u001b[0m\n",
      "\u001b[0;32m/opt/conda/lib/python3.6/site-packages/pandas/io/parsers.py\u001b[0m in \u001b[0;36mread\u001b[0;34m(self, nrows)\u001b[0m\n\u001b[1;32m   1506\u001b[0m     \u001b[0;32mdef\u001b[0m \u001b[0mread\u001b[0m\u001b[0;34m(\u001b[0m\u001b[0mself\u001b[0m\u001b[0;34m,\u001b[0m \u001b[0mnrows\u001b[0m\u001b[0;34m=\u001b[0m\u001b[0;32mNone\u001b[0m\u001b[0;34m)\u001b[0m\u001b[0;34m:\u001b[0m\u001b[0;34m\u001b[0m\u001b[0m\n\u001b[1;32m   1507\u001b[0m         \u001b[0;32mtry\u001b[0m\u001b[0;34m:\u001b[0m\u001b[0;34m\u001b[0m\u001b[0m\n\u001b[0;32m-> 1508\u001b[0;31m             \u001b[0mdata\u001b[0m \u001b[0;34m=\u001b[0m \u001b[0mself\u001b[0m\u001b[0;34m.\u001b[0m\u001b[0m_reader\u001b[0m\u001b[0;34m.\u001b[0m\u001b[0mread\u001b[0m\u001b[0;34m(\u001b[0m\u001b[0mnrows\u001b[0m\u001b[0;34m)\u001b[0m\u001b[0;34m\u001b[0m\u001b[0m\n\u001b[0m\u001b[1;32m   1509\u001b[0m         \u001b[0;32mexcept\u001b[0m \u001b[0mStopIteration\u001b[0m\u001b[0;34m:\u001b[0m\u001b[0;34m\u001b[0m\u001b[0m\n\u001b[1;32m   1510\u001b[0m             \u001b[0;32mif\u001b[0m \u001b[0mself\u001b[0m\u001b[0;34m.\u001b[0m\u001b[0m_first_chunk\u001b[0m\u001b[0;34m:\u001b[0m\u001b[0;34m\u001b[0m\u001b[0m\n",
      "\u001b[0;32mpandas/parser.pyx\u001b[0m in \u001b[0;36mpandas.parser.TextReader.read (pandas/parser.c:10415)\u001b[0;34m()\u001b[0m\n",
      "\u001b[0;32mpandas/parser.pyx\u001b[0m in \u001b[0;36mpandas.parser.TextReader._read_low_memory (pandas/parser.c:10691)\u001b[0;34m()\u001b[0m\n",
      "\u001b[0;32mpandas/parser.pyx\u001b[0m in \u001b[0;36mpandas.parser.TextReader._read_rows (pandas/parser.c:11437)\u001b[0;34m()\u001b[0m\n",
      "\u001b[0;32mpandas/parser.pyx\u001b[0m in \u001b[0;36mpandas.parser.TextReader._tokenize_rows (pandas/parser.c:11308)\u001b[0;34m()\u001b[0m\n",
      "\u001b[0;32mpandas/parser.pyx\u001b[0m in \u001b[0;36mpandas.parser.raise_parser_error (pandas/parser.c:27037)\u001b[0;34m()\u001b[0m\n",
      "\u001b[0;31mCParserError\u001b[0m: Error tokenizing data. C error: Expected 6 fields in line 4, saw 7\n"
     ]
    }
   ],
   "source": [
    "data = pd.read_csv('govt31a-eng.csv')"
   ]
  },
  {
   "cell_type": "markdown",
   "metadata": {},
   "source": [
    "ERROR!!! It turns out that that lines 0, 1, 2, 4, 25, and 26 care either empty or contain header/footer footer information that we want to skip. Also , the numbers has commas `,` to indicate thousands. We consult the pandas.read_csv documentation to deal with these issues."
   ]
  },
  {
   "cell_type": "code",
   "execution_count": 7,
   "metadata": {},
   "outputs": [],
   "source": [
    "data = pd.read_csv('govt31a-eng.csv',skiprows=[0,1,2,4,25,26],index_col=0,thousands=\",\")"
   ]
  },
  {
   "cell_type": "code",
   "execution_count": 8,
   "metadata": {},
   "outputs": [
    {
     "data": {
      "text/html": [
       "<div>\n",
       "<table border=\"1\" class=\"dataframe\">\n",
       "  <thead>\n",
       "    <tr style=\"text-align: right;\">\n",
       "      <th></th>\n",
       "      <th>2005</th>\n",
       "      <th>2006</th>\n",
       "      <th>2007</th>\n",
       "      <th>2008</th>\n",
       "      <th>2009</th>\n",
       "      <th>Unnamed: 6</th>\n",
       "    </tr>\n",
       "  </thead>\n",
       "  <tbody>\n",
       "    <tr>\n",
       "      <th>Total revenue</th>\n",
       "      <td>29484455</td>\n",
       "      <td>31296336</td>\n",
       "      <td>33442589</td>\n",
       "      <td>36219454</td>\n",
       "      <td>37441581</td>\n",
       "      <td>NaN</td>\n",
       "    </tr>\n",
       "    <tr>\n",
       "      <th>Own source revenue</th>\n",
       "      <td>13336261</td>\n",
       "      <td>14074771</td>\n",
       "      <td>14891573</td>\n",
       "      <td>16244024</td>\n",
       "      <td>16779804</td>\n",
       "      <td>NaN</td>\n",
       "    </tr>\n",
       "    <tr>\n",
       "      <th>Sales of goods and services</th>\n",
       "      <td>10520144</td>\n",
       "      <td>10958828</td>\n",
       "      <td>11473607</td>\n",
       "      <td>12429235</td>\n",
       "      <td>12897731</td>\n",
       "      <td>NaN</td>\n",
       "    </tr>\n",
       "    <tr>\n",
       "      <th>Tuition fees</th>\n",
       "      <td>6152681</td>\n",
       "      <td>6416268</td>\n",
       "      <td>6784499</td>\n",
       "      <td>7405380</td>\n",
       "      <td>7681008</td>\n",
       "      <td>NaN</td>\n",
       "    </tr>\n",
       "    <tr>\n",
       "      <th>Other sales of goods and services</th>\n",
       "      <td>4367463</td>\n",
       "      <td>4542559</td>\n",
       "      <td>4689108</td>\n",
       "      <td>5023855</td>\n",
       "      <td>5216723</td>\n",
       "      <td>NaN</td>\n",
       "    </tr>\n",
       "  </tbody>\n",
       "</table>\n",
       "</div>"
      ],
      "text/plain": [
       "                                       2005      2006      2007      2008  \\\n",
       "Total revenue                      29484455  31296336  33442589  36219454   \n",
       "Own source revenue                 13336261  14074771  14891573  16244024   \n",
       "Sales of goods and services        10520144  10958828  11473607  12429235   \n",
       "Tuition fees                        6152681   6416268   6784499   7405380   \n",
       "Other sales of goods and services   4367463   4542559   4689108   5023855   \n",
       "\n",
       "                                       2009  Unnamed: 6  \n",
       "Total revenue                      37441581         NaN  \n",
       "Own source revenue                 16779804         NaN  \n",
       "Sales of goods and services        12897731         NaN  \n",
       "Tuition fees                        7681008         NaN  \n",
       "Other sales of goods and services   5216723         NaN  "
      ]
     },
     "execution_count": 8,
     "metadata": {},
     "output_type": "execute_result"
    }
   ],
   "source": [
    "data.head()"
   ]
  },
  {
   "cell_type": "code",
   "execution_count": 9,
   "metadata": {},
   "outputs": [
    {
     "data": {
      "text/html": [
       "<div>\n",
       "<table border=\"1\" class=\"dataframe\">\n",
       "  <thead>\n",
       "    <tr style=\"text-align: right;\">\n",
       "      <th></th>\n",
       "      <th>2005</th>\n",
       "      <th>2006</th>\n",
       "      <th>2007</th>\n",
       "      <th>2008</th>\n",
       "      <th>2009</th>\n",
       "      <th>Unnamed: 6</th>\n",
       "    </tr>\n",
       "  </thead>\n",
       "  <tbody>\n",
       "    <tr>\n",
       "      <th>Education</th>\n",
       "      <td>14250885</td>\n",
       "      <td>14947966</td>\n",
       "      <td>15780869</td>\n",
       "      <td>17007798</td>\n",
       "      <td>17691098</td>\n",
       "      <td>NaN</td>\n",
       "    </tr>\n",
       "    <tr>\n",
       "      <th>Support to students</th>\n",
       "      <td>1031730</td>\n",
       "      <td>1100234</td>\n",
       "      <td>1191590</td>\n",
       "      <td>1335982</td>\n",
       "      <td>1359762</td>\n",
       "      <td>NaN</td>\n",
       "    </tr>\n",
       "    <tr>\n",
       "      <th>Other postsecondary education expenses</th>\n",
       "      <td>8038995</td>\n",
       "      <td>8371513</td>\n",
       "      <td>8476235</td>\n",
       "      <td>8938284</td>\n",
       "      <td>9363476</td>\n",
       "      <td>NaN</td>\n",
       "    </tr>\n",
       "    <tr>\n",
       "      <th>Debt charges</th>\n",
       "      <td>606483</td>\n",
       "      <td>643871</td>\n",
       "      <td>650094</td>\n",
       "      <td>709514</td>\n",
       "      <td>740786</td>\n",
       "      <td>NaN</td>\n",
       "    </tr>\n",
       "    <tr>\n",
       "      <th>Surplus or deficit</th>\n",
       "      <td>-125158</td>\n",
       "      <td>240808</td>\n",
       "      <td>425927</td>\n",
       "      <td>532978</td>\n",
       "      <td>474872</td>\n",
       "      <td>NaN</td>\n",
       "    </tr>\n",
       "  </tbody>\n",
       "</table>\n",
       "</div>"
      ],
      "text/plain": [
       "                                            2005      2006      2007  \\\n",
       "Education                               14250885  14947966  15780869   \n",
       "Support to students                      1031730   1100234   1191590   \n",
       "Other postsecondary education expenses   8038995   8371513   8476235   \n",
       "Debt charges                              606483    643871    650094   \n",
       "Surplus or deficit                       -125158    240808    425927   \n",
       "\n",
       "                                            2008      2009  Unnamed: 6  \n",
       "Education                               17007798  17691098         NaN  \n",
       "Support to students                      1335982   1359762         NaN  \n",
       "Other postsecondary education expenses   8938284   9363476         NaN  \n",
       "Debt charges                              709514    740786         NaN  \n",
       "Surplus or deficit                        532978    474872         NaN  "
      ]
     },
     "execution_count": 9,
     "metadata": {},
     "output_type": "execute_result"
    }
   ],
   "source": [
    "data.tail()"
   ]
  },
  {
   "cell_type": "code",
   "execution_count": 10,
   "metadata": {},
   "outputs": [
    {
     "name": "stdout",
     "output_type": "stream",
     "text": [
      "<class 'pandas.core.frame.DataFrame'>\n",
      "Index: 20 entries, Total revenue to Surplus or deficit\n",
      "Data columns (total 6 columns):\n",
      "2005          20 non-null int64\n",
      "2006          20 non-null int64\n",
      "2007          20 non-null int64\n",
      "2008          20 non-null int64\n",
      "2009          20 non-null int64\n",
      "Unnamed: 6    0 non-null float64\n",
      "dtypes: float64(1), int64(5)\n",
      "memory usage: 1.1+ KB\n"
     ]
    }
   ],
   "source": [
    "data.info()"
   ]
  },
  {
   "cell_type": "markdown",
   "metadata": {},
   "source": [
    "Success! We imported the data! The columns which should be numbers are imported as numbers and not as text (ie. object) and we are ready to analyze the data!\n",
    "\n",
    "The only issue is that the data set only has 20 rows. BORING!!!"
   ]
  }
 ],
 "metadata": {
  "kernelspec": {
   "display_name": "Python 3",
   "language": "python",
   "name": "python3"
  },
  "language_info": {
   "codemirror_mode": {
    "name": "ipython",
    "version": 3
   },
   "file_extension": ".py",
   "mimetype": "text/x-python",
   "name": "python",
   "nbconvert_exporter": "python",
   "pygments_lexer": "ipython3",
   "version": "3.6.4"
  }
 },
 "nbformat": 4,
 "nbformat_minor": 2
}
