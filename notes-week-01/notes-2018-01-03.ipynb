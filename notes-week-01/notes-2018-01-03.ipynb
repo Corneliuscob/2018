{
 "cells": [
  {
   "cell_type": "markdown",
   "metadata": {},
   "source": [
    "# MATH 210 Introduction to Mathematical Computing\n",
    "\n",
    "## January 3, 2017\n",
    "\n",
    "1. Welcome!\n",
    "2. What to expect\n",
    "3. To do list"
   ]
  },
  {
   "cell_type": "markdown",
   "metadata": {},
   "source": [
    "## 1. Welcome!\n",
    "\n",
    "Welcome to MATH 210! We will learn about Python programming and apply our skills to mathematical computing problems in calculus, linear algebra, differential equations and data analysis."
   ]
  },
  {
   "cell_type": "markdown",
   "metadata": {},
   "source": [
    "## 2. What to expect\n",
    "\n",
    "We will be writing a lot of text, markdown, LaTeX and Python code in class. Everyone is **strongly encouraged** to bring a laptop/tablet/Chromebook to class and follow along."
   ]
  },
  {
   "cell_type": "markdown",
   "metadata": {},
   "source": [
    "For example, we can write LaTeX to display the statement of the Fundamental Theorem of Calculus:\n",
    "\n",
    "$$\n",
    "\\int_a^b f(x) dx = F(b) - F(a)\n",
    "$$"
   ]
  },
  {
   "cell_type": "markdown",
   "metadata": {},
   "source": [
    "We can write Python code to do simple arithmetics:"
   ]
  },
  {
   "cell_type": "code",
   "execution_count": 1,
   "metadata": {},
   "outputs": [
    {
     "data": {
      "text/plain": [
       "3"
      ]
     },
     "execution_count": 1,
     "metadata": {},
     "output_type": "execute_result"
    }
   ],
   "source": [
    "1 + 2"
   ]
  },
  {
   "cell_type": "markdown",
   "metadata": {},
   "source": [
    "We can write Python code to compute the partial sum\n",
    "\n",
    "$$\n",
    "\\sum_{n = 1}^{1000} \\frac{1}{n^2}\n",
    "$$"
   ]
  },
  {
   "cell_type": "code",
   "execution_count": 2,
   "metadata": {},
   "outputs": [
    {
     "data": {
      "text/plain": [
       "1.6439335666815615"
      ]
     },
     "execution_count": 2,
     "metadata": {},
     "output_type": "execute_result"
    }
   ],
   "source": [
    "sum([1/n**2 for n in range(1,1000)])"
   ]
  },
  {
   "cell_type": "markdown",
   "metadata": {},
   "source": [
    "We can compare the value to the special value of the [Riemann zeta function](https://en.wikipedia.org/wiki/Riemann_zeta_function#Specific_values) (proved by [Euler](https://en.wikipedia.org/wiki/Basel_problem) in 1734)\n",
    "\n",
    "$$\n",
    "\\zeta(2) = \\sum_{n = 1}^{\\infty} \\frac{1}{n^2} = \\frac{\\pi^2}{6}\n",
    "$$"
   ]
  },
  {
   "cell_type": "code",
   "execution_count": 3,
   "metadata": {},
   "outputs": [
    {
     "data": {
      "text/plain": [
       "1.6449312880166664"
      ]
     },
     "execution_count": 3,
     "metadata": {},
     "output_type": "execute_result"
    }
   ],
   "source": [
    "3.14159**2/6"
   ]
  },
  {
   "cell_type": "markdown",
   "metadata": {},
   "source": [
    "## 3. TO DO\n",
    "\n",
    "The first things to do in MATH 210 are:\n",
    "\n",
    "* Login to Canvas\n",
    "* Login to Piazza\n",
    "* Login to [ubc.syzygy.ca](https://ubc.syzygy.ca)\n",
    "* Check out the [Python](http://www.python.org) official page"
   ]
  }
 ],
 "metadata": {
  "kernelspec": {
   "display_name": "Python 3",
   "language": "python",
   "name": "python3"
  },
  "language_info": {
   "codemirror_mode": {
    "name": "ipython",
    "version": 3
   },
   "file_extension": ".py",
   "mimetype": "text/x-python",
   "name": "python",
   "nbconvert_exporter": "python",
   "pygments_lexer": "ipython3",
   "version": "3.6.2"
  }
 },
 "nbformat": 4,
 "nbformat_minor": 2
}
